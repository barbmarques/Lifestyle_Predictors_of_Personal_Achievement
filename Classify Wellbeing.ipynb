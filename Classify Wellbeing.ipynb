{
 "cells": [
  {
   "cell_type": "markdown",
   "metadata": {},
   "source": [
    "## Predicting Personal Achievement based on Lifestyle Factors"
   ]
  },
  {
   "cell_type": "markdown",
   "metadata": {},
   "source": [
    "#### ```Project Summary:```\n",
    "\n",
    "Predict levels of Work-Life Balance based on lifestyle factors, using a dataset of 12,757 survey responses to 23 lifestyle attributes. The actual survey was given by given Authenic-Happiness.come and is linked here: http://www.authentic-happiness.com/your-life-satisfaction-score\n",
    "\n",
    "Dataset: https://www.kaggle.com/ydalat/lifestyle-and-wellbeing-data\n",
    "\n",
    "#### ```Initial Thoughts:```\n",
    "- expect high correlation with sleep, stress, negative emotions, meditation\n",
    "- curious about bmi and achievement\n",
    "- does high stress = high achievement / can less stress still = high achievement?\n",
    "- how does female achievement compare to male\n",
    "- expect higher age to contribute to higher achievement\n",
    "- possibly drop flow, lost vacation, places visited, fruit_veggies, todo_completed, sufficient income\n",
    "\n",
    "#### ```Project Goals:```\n",
    "- Create a model that will identify drivers of high personal achievement based on lifestyle factors. \n",
    "- Create a single notebook with necessary helper functions and instructions that allow a user to reproduce results on their own. \n",
    "\n",
    "Trello board:  https://trello.com/b/ebZrkO2D/lifestyle-factors-that-affect-personal-achievement"
   ]
  },
  {
   "cell_type": "markdown",
   "metadata": {},
   "source": [
    "<a id='back'></a>\n",
    "### Quick Links to Sections within this Notebook\n",
    "\n",
    "- [Acquire Data](#AD)\n",
    "- [Prepare Data](#PD)\n",
    "- [Explore Data](#EX)\n",
    "- [Split Data](#SD)\n",
    "- [Hypothesis Testing](#HY)\n",
    "- [Cluster Data](#CL)\n",
    "- [Hypothesis Testing on Clusters](#HC)\n",
    "- [Scale Data](#Scale)\n",
    "- [Modeling](#Model)\n",
    "- [Model on Test Data](#TD)\n",
    "- [Conclusion](#Concl)"
   ]
  },
  {
   "cell_type": "code",
   "execution_count": 1,
   "metadata": {
    "tags": []
   },
   "outputs": [],
   "source": [
    "\n",
    "\n",
    "# # Wrangling\n",
    "# import pandas as pd\n",
    "# import numpy as np\n",
    "# import wrangle\n",
    "# from acquire import get_zillow_data\n",
    "# # Statistical Tests\n",
    "# import scipy.stats as stats\n",
    "\n",
    "# # Visualizing\n",
    "# import matplotlib.pyplot as plt\n",
    "# from matplotlib import cm\n",
    "# import seaborn as sns\n",
    "\n",
    "# #Modeling Imports\n",
    "# from sklearn.model_selection import learning_curve\n",
    "# from sklearn.cluster import KMeans, dbscan\n",
    "# from sklearn.model_selection import train_test_split\n",
    "# from sklearn.linear_model import LinearRegression\n",
    "# from sklearn.feature_selection import SelectKBest, RFE, f_regression \n",
    "# from sklearn.linear_model import LinearRegression, LassoLars\n",
    "# from sklearn.preprocessing import PolynomialFeatures\n",
    "\n",
    "# # modeling methods\n",
    "# from sklearn.metrics import mean_squared_error, explained_variance_score\n",
    "# from sklearn.linear_model import LinearRegression, LassoLars, TweedieRegressor\n",
    "# from sklearn.preprocessing import PolynomialFeatures\n",
    "\n",
    "# pd.set_option('display.max_columns', 80)"
   ]
  },
  {
   "cell_type": "markdown",
   "metadata": {},
   "source": [
    "<a id='AD'></a>\n",
    "## ```Acquire & Prepare Data```\n",
    "[back](#back) /  [next](#PD)"
   ]
  },
  {
   "cell_type": "code",
   "execution_count": 2,
   "metadata": {},
   "outputs": [],
   "source": [
    "import pandas as pd\n",
    "import acquire, prepare, explore, model, OLDexplore\n",
    "import numpy as np\n",
    "import matplotlib.pyplot as plt\n",
    "import seaborn as sns\n",
    "from scipy import stats\n",
    "\n",
    "# Statistical Tests\n",
    "import scipy.stats as stats\n",
    "from scipy.stats import pearsonr\n",
    "\n",
    "# #Modeling Imports\n",
    "from sklearn.model_selection import train_test_split, learning_curve\n",
    "from sklearn.cluster import KMeans, dbscan\n",
    "from sklearn.feature_selection import SelectKBest, RFE, f_regression \n",
    "from sklearn.linear_model import LogisticRegression, LinearRegression, LassoLars, TweedieRegressor\n",
    "from sklearn.preprocessing import PolynomialFeatures\n",
    "from sklearn.metrics import mean_squared_error, explained_variance_score\n",
    "from sklearn.tree import export_graphviz, DecisionTreeClassifier\n",
    "from sklearn.neighbors import KNeighborsClassifier\n",
    "from sklearn.ensemble import RandomForestClassifier\n",
    "from sklearn.metrics import confusion_matrix, classification_report\n",
    "\n",
    "# ignore warnings\n",
    "import warnings\n",
    "warnings.filterwarnings(\"ignore\")"
   ]
  },
  {
   "cell_type": "code",
   "execution_count": 3,
   "metadata": {},
   "outputs": [
    {
     "data": {
      "text/html": [
       "<div>\n",
       "<style scoped>\n",
       "    .dataframe tbody tr th:only-of-type {\n",
       "        vertical-align: middle;\n",
       "    }\n",
       "\n",
       "    .dataframe tbody tr th {\n",
       "        vertical-align: top;\n",
       "    }\n",
       "\n",
       "    .dataframe thead th {\n",
       "        text-align: right;\n",
       "    }\n",
       "</style>\n",
       "<table border=\"1\" class=\"dataframe\">\n",
       "  <thead>\n",
       "    <tr style=\"text-align: right;\">\n",
       "      <th></th>\n",
       "      <th>Timestamp</th>\n",
       "      <th>FRUITS_VEGGIES</th>\n",
       "      <th>DAILY_STRESS</th>\n",
       "      <th>PLACES_VISITED</th>\n",
       "      <th>CORE_CIRCLE</th>\n",
       "      <th>SUPPORTING_OTHERS</th>\n",
       "      <th>SOCIAL_NETWORK</th>\n",
       "      <th>ACHIEVEMENT</th>\n",
       "      <th>DONATION</th>\n",
       "      <th>BMI_RANGE</th>\n",
       "      <th>...</th>\n",
       "      <th>SLEEP_HOURS</th>\n",
       "      <th>LOST_VACATION</th>\n",
       "      <th>DAILY_SHOUTING</th>\n",
       "      <th>SUFFICIENT_INCOME</th>\n",
       "      <th>PERSONAL_AWARDS</th>\n",
       "      <th>TIME_FOR_PASSION</th>\n",
       "      <th>WEEKLY_MEDITATION</th>\n",
       "      <th>AGE</th>\n",
       "      <th>GENDER</th>\n",
       "      <th>WORK_LIFE_BALANCE_SCORE</th>\n",
       "    </tr>\n",
       "  </thead>\n",
       "  <tbody>\n",
       "    <tr>\n",
       "      <th>0</th>\n",
       "      <td>7/7/15</td>\n",
       "      <td>3</td>\n",
       "      <td>2</td>\n",
       "      <td>2</td>\n",
       "      <td>5</td>\n",
       "      <td>0</td>\n",
       "      <td>5</td>\n",
       "      <td>2</td>\n",
       "      <td>0</td>\n",
       "      <td>1</td>\n",
       "      <td>...</td>\n",
       "      <td>7</td>\n",
       "      <td>5</td>\n",
       "      <td>5</td>\n",
       "      <td>1</td>\n",
       "      <td>4</td>\n",
       "      <td>0</td>\n",
       "      <td>5</td>\n",
       "      <td>36 to 50</td>\n",
       "      <td>Female</td>\n",
       "      <td>609.5</td>\n",
       "    </tr>\n",
       "  </tbody>\n",
       "</table>\n",
       "<p>1 rows × 24 columns</p>\n",
       "</div>"
      ],
      "text/plain": [
       "  Timestamp  FRUITS_VEGGIES DAILY_STRESS  PLACES_VISITED  CORE_CIRCLE  \\\n",
       "0    7/7/15               3            2               2            5   \n",
       "\n",
       "   SUPPORTING_OTHERS  SOCIAL_NETWORK  ACHIEVEMENT  DONATION  BMI_RANGE  ...  \\\n",
       "0                  0               5            2         0          1  ...   \n",
       "\n",
       "   SLEEP_HOURS  LOST_VACATION  DAILY_SHOUTING  SUFFICIENT_INCOME  \\\n",
       "0            7              5               5                  1   \n",
       "\n",
       "   PERSONAL_AWARDS  TIME_FOR_PASSION  WEEKLY_MEDITATION       AGE  GENDER  \\\n",
       "0                4                 0                  5  36 to 50  Female   \n",
       "\n",
       "   WORK_LIFE_BALANCE_SCORE  \n",
       "0                    609.5  \n",
       "\n",
       "[1 rows x 24 columns]"
      ]
     },
     "execution_count": 3,
     "metadata": {},
     "output_type": "execute_result"
    }
   ],
   "source": [
    "df = acquire.get_wellbeing_data()\n",
    "df.head(1)"
   ]
  },
  {
   "cell_type": "code",
   "execution_count": 4,
   "metadata": {
    "tags": []
   },
   "outputs": [
    {
     "data": {
      "text/plain": [
       "0"
      ]
     },
     "execution_count": 4,
     "metadata": {},
     "output_type": "execute_result"
    }
   ],
   "source": [
    "#How many nulls in each column?\n",
    "df.isnull().sum(axis =0).sum()"
   ]
  },
  {
   "cell_type": "code",
   "execution_count": 5,
   "metadata": {
    "tags": []
   },
   "outputs": [
    {
     "data": {
      "text/plain": [
       "0"
      ]
     },
     "execution_count": 5,
     "metadata": {},
     "output_type": "execute_result"
    }
   ],
   "source": [
    "#How many nulls in each row?\n",
    "df.isnull().sum(axis =1).sum()\n",
    "\n"
   ]
  },
  {
   "cell_type": "code",
   "execution_count": 6,
   "metadata": {
    "tags": []
   },
   "outputs": [
    {
     "data": {
      "text/plain": [
       "Index(['Timestamp', 'FRUITS_VEGGIES', 'DAILY_STRESS', 'PLACES_VISITED',\n",
       "       'CORE_CIRCLE', 'SUPPORTING_OTHERS', 'SOCIAL_NETWORK', 'ACHIEVEMENT',\n",
       "       'DONATION', 'BMI_RANGE', 'TODO_COMPLETED', 'FLOW', 'DAILY_STEPS',\n",
       "       'LIVE_VISION', 'SLEEP_HOURS', 'LOST_VACATION', 'DAILY_SHOUTING',\n",
       "       'SUFFICIENT_INCOME', 'PERSONAL_AWARDS', 'TIME_FOR_PASSION',\n",
       "       'WEEKLY_MEDITATION', 'AGE', 'GENDER', 'WORK_LIFE_BALANCE_SCORE'],\n",
       "      dtype='object')"
      ]
     },
     "execution_count": 6,
     "metadata": {},
     "output_type": "execute_result"
    }
   ],
   "source": [
    "df.columns"
   ]
  },
  {
   "cell_type": "code",
   "execution_count": 7,
   "metadata": {
    "tags": []
   },
   "outputs": [
    {
     "data": {
      "text/plain": [
       "PERSONAL_AWARDS  SLEEP_HOURS\n",
       "0                7              147\n",
       "                 8              128\n",
       "                 6              117\n",
       "                 5               55\n",
       "                 9               45\n",
       "                               ... \n",
       "10               4               64\n",
       "                 10              61\n",
       "                 2                5\n",
       "                 3                2\n",
       "                 1                1\n",
       "Name: SLEEP_HOURS, Length: 103, dtype: int64"
      ]
     },
     "execution_count": 7,
     "metadata": {},
     "output_type": "execute_result"
    }
   ],
   "source": [
    "# New dataframe \n",
    "df.groupby('PERSONAL_AWARDS')['SLEEP_HOURS'].value_counts()"
   ]
  },
  {
   "cell_type": "code",
   "execution_count": 8,
   "metadata": {},
   "outputs": [
    {
     "data": {
      "text/plain": [
       "2     2606\n",
       "3     2538\n",
       "5     2031\n",
       "4     1838\n",
       "1     1595\n",
       "0     1302\n",
       "10    1170\n",
       "6     1145\n",
       "7      814\n",
       "8      693\n",
       "9      240\n",
       "Name: ACHIEVEMENT, dtype: int64"
      ]
     },
     "execution_count": 8,
     "metadata": {},
     "output_type": "execute_result"
    }
   ],
   "source": [
    "df.ACHIEVEMENT.value_counts()"
   ]
  },
  {
   "cell_type": "code",
   "execution_count": null,
   "metadata": {},
   "outputs": [],
   "source": []
  },
  {
   "cell_type": "code",
   "execution_count": 9,
   "metadata": {},
   "outputs": [
    {
     "name": "stdout",
     "output_type": "stream",
     "text": [
      "<class 'pandas.core.frame.DataFrame'>\n",
      "RangeIndex: 15972 entries, 0 to 15971\n",
      "Data columns (total 24 columns):\n",
      " #   Column                   Non-Null Count  Dtype  \n",
      "---  ------                   --------------  -----  \n",
      " 0   Timestamp                15972 non-null  object \n",
      " 1   FRUITS_VEGGIES           15972 non-null  int64  \n",
      " 2   DAILY_STRESS             15972 non-null  object \n",
      " 3   PLACES_VISITED           15972 non-null  int64  \n",
      " 4   CORE_CIRCLE              15972 non-null  int64  \n",
      " 5   SUPPORTING_OTHERS        15972 non-null  int64  \n",
      " 6   SOCIAL_NETWORK           15972 non-null  int64  \n",
      " 7   ACHIEVEMENT              15972 non-null  int64  \n",
      " 8   DONATION                 15972 non-null  int64  \n",
      " 9   BMI_RANGE                15972 non-null  int64  \n",
      " 10  TODO_COMPLETED           15972 non-null  int64  \n",
      " 11  FLOW                     15972 non-null  int64  \n",
      " 12  DAILY_STEPS              15972 non-null  int64  \n",
      " 13  LIVE_VISION              15972 non-null  int64  \n",
      " 14  SLEEP_HOURS              15972 non-null  int64  \n",
      " 15  LOST_VACATION            15972 non-null  int64  \n",
      " 16  DAILY_SHOUTING           15972 non-null  int64  \n",
      " 17  SUFFICIENT_INCOME        15972 non-null  int64  \n",
      " 18  PERSONAL_AWARDS          15972 non-null  int64  \n",
      " 19  TIME_FOR_PASSION         15972 non-null  int64  \n",
      " 20  WEEKLY_MEDITATION        15972 non-null  int64  \n",
      " 21  AGE                      15972 non-null  object \n",
      " 22  GENDER                   15972 non-null  object \n",
      " 23  WORK_LIFE_BALANCE_SCORE  15972 non-null  float64\n",
      "dtypes: float64(1), int64(19), object(4)\n",
      "memory usage: 2.9+ MB\n"
     ]
    }
   ],
   "source": [
    "df.info()"
   ]
  },
  {
   "cell_type": "markdown",
   "metadata": {},
   "source": [
    "<a id='PD'></a>\n",
    "## ```Prepare Data```\n",
    "\n",
    "[back](#back) |  [next](#EX)"
   ]
  },
  {
   "cell_type": "code",
   "execution_count": null,
   "metadata": {},
   "outputs": [],
   "source": []
  },
  {
   "cell_type": "code",
   "execution_count": 10,
   "metadata": {},
   "outputs": [],
   "source": [
    "df = prepare.prep_wellbeing(df)"
   ]
  },
  {
   "cell_type": "code",
   "execution_count": 11,
   "metadata": {},
   "outputs": [
    {
     "data": {
      "text/plain": [
       "3    4398\n",
       "2    3407\n",
       "4    2960\n",
       "1    2478\n",
       "5    2052\n",
       "0     676\n",
       "Name: stress, dtype: int64"
      ]
     },
     "execution_count": 11,
     "metadata": {},
     "output_type": "execute_result"
    }
   ],
   "source": [
    "df.stress.value_counts()"
   ]
  },
  {
   "cell_type": "code",
   "execution_count": 12,
   "metadata": {},
   "outputs": [
    {
     "data": {
      "text/html": [
       "<div>\n",
       "<style scoped>\n",
       "    .dataframe tbody tr th:only-of-type {\n",
       "        vertical-align: middle;\n",
       "    }\n",
       "\n",
       "    .dataframe tbody tr th {\n",
       "        vertical-align: top;\n",
       "    }\n",
       "\n",
       "    .dataframe thead th {\n",
       "        text-align: right;\n",
       "    }\n",
       "</style>\n",
       "<table border=\"1\" class=\"dataframe\">\n",
       "  <thead>\n",
       "    <tr style=\"text-align: right;\">\n",
       "      <th></th>\n",
       "      <th>fruit_veg</th>\n",
       "      <th>stress</th>\n",
       "      <th>core_circle</th>\n",
       "      <th>support</th>\n",
       "      <th>social</th>\n",
       "      <th>achievement</th>\n",
       "      <th>donation</th>\n",
       "      <th>bmi</th>\n",
       "      <th>steps</th>\n",
       "      <th>vision</th>\n",
       "      <th>sleep_hrs</th>\n",
       "      <th>shouts</th>\n",
       "      <th>awards</th>\n",
       "      <th>passion</th>\n",
       "      <th>meditation</th>\n",
       "      <th>age_range</th>\n",
       "      <th>gender</th>\n",
       "      <th>balance</th>\n",
       "    </tr>\n",
       "  </thead>\n",
       "  <tbody>\n",
       "    <tr>\n",
       "      <th>0</th>\n",
       "      <td>3</td>\n",
       "      <td>2</td>\n",
       "      <td>5</td>\n",
       "      <td>0</td>\n",
       "      <td>5</td>\n",
       "      <td>2</td>\n",
       "      <td>0</td>\n",
       "      <td>1</td>\n",
       "      <td>5</td>\n",
       "      <td>0</td>\n",
       "      <td>7</td>\n",
       "      <td>5</td>\n",
       "      <td>4</td>\n",
       "      <td>0</td>\n",
       "      <td>5</td>\n",
       "      <td>36 to 50</td>\n",
       "      <td>Female</td>\n",
       "      <td>609.5</td>\n",
       "    </tr>\n",
       "    <tr>\n",
       "      <th>1</th>\n",
       "      <td>2</td>\n",
       "      <td>3</td>\n",
       "      <td>3</td>\n",
       "      <td>8</td>\n",
       "      <td>10</td>\n",
       "      <td>5</td>\n",
       "      <td>2</td>\n",
       "      <td>2</td>\n",
       "      <td>5</td>\n",
       "      <td>5</td>\n",
       "      <td>8</td>\n",
       "      <td>2</td>\n",
       "      <td>3</td>\n",
       "      <td>2</td>\n",
       "      <td>6</td>\n",
       "      <td>36 to 50</td>\n",
       "      <td>Female</td>\n",
       "      <td>655.6</td>\n",
       "    </tr>\n",
       "    <tr>\n",
       "      <th>2</th>\n",
       "      <td>2</td>\n",
       "      <td>3</td>\n",
       "      <td>4</td>\n",
       "      <td>4</td>\n",
       "      <td>10</td>\n",
       "      <td>3</td>\n",
       "      <td>2</td>\n",
       "      <td>2</td>\n",
       "      <td>4</td>\n",
       "      <td>5</td>\n",
       "      <td>8</td>\n",
       "      <td>2</td>\n",
       "      <td>4</td>\n",
       "      <td>8</td>\n",
       "      <td>3</td>\n",
       "      <td>36 to 50</td>\n",
       "      <td>Female</td>\n",
       "      <td>631.6</td>\n",
       "    </tr>\n",
       "    <tr>\n",
       "      <th>3</th>\n",
       "      <td>3</td>\n",
       "      <td>3</td>\n",
       "      <td>3</td>\n",
       "      <td>10</td>\n",
       "      <td>7</td>\n",
       "      <td>2</td>\n",
       "      <td>5</td>\n",
       "      <td>2</td>\n",
       "      <td>5</td>\n",
       "      <td>0</td>\n",
       "      <td>5</td>\n",
       "      <td>5</td>\n",
       "      <td>5</td>\n",
       "      <td>2</td>\n",
       "      <td>0</td>\n",
       "      <td>51 or more</td>\n",
       "      <td>Female</td>\n",
       "      <td>622.7</td>\n",
       "    </tr>\n",
       "    <tr>\n",
       "      <th>4</th>\n",
       "      <td>5</td>\n",
       "      <td>1</td>\n",
       "      <td>3</td>\n",
       "      <td>10</td>\n",
       "      <td>4</td>\n",
       "      <td>2</td>\n",
       "      <td>4</td>\n",
       "      <td>2</td>\n",
       "      <td>5</td>\n",
       "      <td>0</td>\n",
       "      <td>7</td>\n",
       "      <td>0</td>\n",
       "      <td>8</td>\n",
       "      <td>1</td>\n",
       "      <td>5</td>\n",
       "      <td>51 or more</td>\n",
       "      <td>Female</td>\n",
       "      <td>663.9</td>\n",
       "    </tr>\n",
       "  </tbody>\n",
       "</table>\n",
       "</div>"
      ],
      "text/plain": [
       "   fruit_veg  stress  core_circle  support  social  achievement  donation  \\\n",
       "0          3       2            5        0       5            2         0   \n",
       "1          2       3            3        8      10            5         2   \n",
       "2          2       3            4        4      10            3         2   \n",
       "3          3       3            3       10       7            2         5   \n",
       "4          5       1            3       10       4            2         4   \n",
       "\n",
       "   bmi  steps  vision  sleep_hrs  shouts  awards  passion  meditation  \\\n",
       "0    1      5       0          7       5       4        0           5   \n",
       "1    2      5       5          8       2       3        2           6   \n",
       "2    2      4       5          8       2       4        8           3   \n",
       "3    2      5       0          5       5       5        2           0   \n",
       "4    2      5       0          7       0       8        1           5   \n",
       "\n",
       "    age_range  gender  balance  \n",
       "0    36 to 50  Female    609.5  \n",
       "1    36 to 50  Female    655.6  \n",
       "2    36 to 50  Female    631.6  \n",
       "3  51 or more  Female    622.7  \n",
       "4  51 or more  Female    663.9  "
      ]
     },
     "execution_count": 12,
     "metadata": {},
     "output_type": "execute_result"
    }
   ],
   "source": [
    "df.head()"
   ]
  },
  {
   "cell_type": "code",
   "execution_count": 13,
   "metadata": {},
   "outputs": [
    {
     "data": {
      "text/plain": [
       "Index(['fruit_veg', 'stress', 'core_circle', 'support', 'social',\n",
       "       'achievement', 'donation', 'bmi', 'steps', 'vision', 'sleep_hrs',\n",
       "       'shouts', 'awards', 'passion', 'meditation', 'age_range', 'gender',\n",
       "       'balance'],\n",
       "      dtype='object')"
      ]
     },
     "execution_count": 13,
     "metadata": {},
     "output_type": "execute_result"
    }
   ],
   "source": [
    "df.columns"
   ]
  },
  {
   "cell_type": "code",
   "execution_count": 14,
   "metadata": {},
   "outputs": [
    {
     "name": "stdout",
     "output_type": "stream",
     "text": [
      "<class 'pandas.core.frame.DataFrame'>\n",
      "Int64Index: 15971 entries, 0 to 15971\n",
      "Data columns (total 18 columns):\n",
      " #   Column       Non-Null Count  Dtype  \n",
      "---  ------       --------------  -----  \n",
      " 0   fruit_veg    15971 non-null  int64  \n",
      " 1   stress       15971 non-null  int64  \n",
      " 2   core_circle  15971 non-null  int64  \n",
      " 3   support      15971 non-null  int64  \n",
      " 4   social       15971 non-null  int64  \n",
      " 5   achievement  15971 non-null  int64  \n",
      " 6   donation     15971 non-null  int64  \n",
      " 7   bmi          15971 non-null  int64  \n",
      " 8   steps        15971 non-null  int64  \n",
      " 9   vision       15971 non-null  int64  \n",
      " 10  sleep_hrs    15971 non-null  int64  \n",
      " 11  shouts       15971 non-null  int64  \n",
      " 12  awards       15971 non-null  int64  \n",
      " 13  passion      15971 non-null  int64  \n",
      " 14  meditation   15971 non-null  int64  \n",
      " 15  age_range    15971 non-null  object \n",
      " 16  gender       15971 non-null  object \n",
      " 17  balance      15971 non-null  float64\n",
      "dtypes: float64(1), int64(15), object(2)\n",
      "memory usage: 2.3+ MB\n"
     ]
    }
   ],
   "source": [
    "df.info()"
   ]
  },
  {
   "cell_type": "code",
   "execution_count": 15,
   "metadata": {},
   "outputs": [
    {
     "data": {
      "text/plain": [
       "10    3993\n",
       "5     1915\n",
       "3     1835\n",
       "4     1646\n",
       "2     1576\n",
       "6     1119\n",
       "7     1053\n",
       "8      917\n",
       "1      883\n",
       "0      740\n",
       "9      294\n",
       "Name: support, dtype: int64"
      ]
     },
     "execution_count": 15,
     "metadata": {},
     "output_type": "execute_result"
    }
   ],
   "source": [
    "df.support.value_counts()\n"
   ]
  },
  {
   "cell_type": "code",
   "execution_count": 16,
   "metadata": {},
   "outputs": [
    {
     "data": {
      "text/html": [
       "<div>\n",
       "<style scoped>\n",
       "    .dataframe tbody tr th:only-of-type {\n",
       "        vertical-align: middle;\n",
       "    }\n",
       "\n",
       "    .dataframe tbody tr th {\n",
       "        vertical-align: top;\n",
       "    }\n",
       "\n",
       "    .dataframe thead th {\n",
       "        text-align: right;\n",
       "    }\n",
       "</style>\n",
       "<table border=\"1\" class=\"dataframe\">\n",
       "  <thead>\n",
       "    <tr style=\"text-align: right;\">\n",
       "      <th></th>\n",
       "      <th>low_ach</th>\n",
       "      <th>avg_ach</th>\n",
       "      <th>high_ach</th>\n",
       "    </tr>\n",
       "  </thead>\n",
       "  <tbody>\n",
       "    <tr>\n",
       "      <th>6487</th>\n",
       "      <td>0</td>\n",
       "      <td>0</td>\n",
       "      <td>1</td>\n",
       "    </tr>\n",
       "    <tr>\n",
       "      <th>10448</th>\n",
       "      <td>0</td>\n",
       "      <td>1</td>\n",
       "      <td>0</td>\n",
       "    </tr>\n",
       "    <tr>\n",
       "      <th>1277</th>\n",
       "      <td>0</td>\n",
       "      <td>1</td>\n",
       "      <td>0</td>\n",
       "    </tr>\n",
       "    <tr>\n",
       "      <th>11881</th>\n",
       "      <td>0</td>\n",
       "      <td>1</td>\n",
       "      <td>0</td>\n",
       "    </tr>\n",
       "    <tr>\n",
       "      <th>2516</th>\n",
       "      <td>0</td>\n",
       "      <td>0</td>\n",
       "      <td>1</td>\n",
       "    </tr>\n",
       "  </tbody>\n",
       "</table>\n",
       "</div>"
      ],
      "text/plain": [
       "       low_ach  avg_ach  high_ach\n",
       "6487         0        0         1\n",
       "10448        0        1         0\n",
       "1277         0        1         0\n",
       "11881        0        1         0\n",
       "2516         0        0         1"
      ]
     },
     "execution_count": 16,
     "metadata": {},
     "output_type": "execute_result"
    }
   ],
   "source": [
    "#Bin achievement levels\n",
    "cut_labels_3 = ['low_ach', 'avg_ach', 'high_ach']\n",
    "cut_bins = [-1, 1, 7, 11]\n",
    "df['ach_level'] = pd.cut(df['achievement'], bins=cut_bins, labels=cut_labels_3)\n",
    "\n",
    "# make dummy columns for achievement levels\n",
    "ach_dummies = pd.get_dummies(df.ach_level, drop_first=False)\n",
    "ach_dummies.sample(5)"
   ]
  },
  {
   "cell_type": "code",
   "execution_count": 17,
   "metadata": {},
   "outputs": [
    {
     "data": {
      "text/html": [
       "<div>\n",
       "<style scoped>\n",
       "    .dataframe tbody tr th:only-of-type {\n",
       "        vertical-align: middle;\n",
       "    }\n",
       "\n",
       "    .dataframe tbody tr th {\n",
       "        vertical-align: top;\n",
       "    }\n",
       "\n",
       "    .dataframe thead th {\n",
       "        text-align: right;\n",
       "    }\n",
       "</style>\n",
       "<table border=\"1\" class=\"dataframe\">\n",
       "  <thead>\n",
       "    <tr style=\"text-align: right;\">\n",
       "      <th></th>\n",
       "      <th>21 to 35</th>\n",
       "      <th>36 to 50</th>\n",
       "      <th>51 or more</th>\n",
       "      <th>Less than 20</th>\n",
       "    </tr>\n",
       "  </thead>\n",
       "  <tbody>\n",
       "    <tr>\n",
       "      <th>13610</th>\n",
       "      <td>0</td>\n",
       "      <td>0</td>\n",
       "      <td>1</td>\n",
       "      <td>0</td>\n",
       "    </tr>\n",
       "    <tr>\n",
       "      <th>7917</th>\n",
       "      <td>1</td>\n",
       "      <td>0</td>\n",
       "      <td>0</td>\n",
       "      <td>0</td>\n",
       "    </tr>\n",
       "    <tr>\n",
       "      <th>14435</th>\n",
       "      <td>1</td>\n",
       "      <td>0</td>\n",
       "      <td>0</td>\n",
       "      <td>0</td>\n",
       "    </tr>\n",
       "    <tr>\n",
       "      <th>15624</th>\n",
       "      <td>1</td>\n",
       "      <td>0</td>\n",
       "      <td>0</td>\n",
       "      <td>0</td>\n",
       "    </tr>\n",
       "    <tr>\n",
       "      <th>8117</th>\n",
       "      <td>0</td>\n",
       "      <td>1</td>\n",
       "      <td>0</td>\n",
       "      <td>0</td>\n",
       "    </tr>\n",
       "  </tbody>\n",
       "</table>\n",
       "</div>"
      ],
      "text/plain": [
       "       21 to 35  36 to 50  51 or more  Less than 20\n",
       "13610         0         0           1             0\n",
       "7917          1         0           0             0\n",
       "14435         1         0           0             0\n",
       "15624         1         0           0             0\n",
       "8117          0         1           0             0"
      ]
     },
     "execution_count": 17,
     "metadata": {},
     "output_type": "execute_result"
    }
   ],
   "source": [
    "# make dummy columns for age range\n",
    "age_dummies = pd.get_dummies(df.age_range, drop_first=False)\n",
    "age_dummies.sample(5)"
   ]
  },
  {
   "cell_type": "code",
   "execution_count": 18,
   "metadata": {},
   "outputs": [
    {
     "data": {
      "text/plain": [
       "7     5566\n",
       "8     4324\n",
       "6     3396\n",
       "5     1025\n",
       "9      987\n",
       "10     333\n",
       "4      252\n",
       "3       49\n",
       "2       21\n",
       "1       18\n",
       "Name: sleep_hrs, dtype: int64"
      ]
     },
     "execution_count": 18,
     "metadata": {},
     "output_type": "execute_result"
    }
   ],
   "source": [
    "df.sleep_hrs.value_counts()"
   ]
  },
  {
   "cell_type": "code",
   "execution_count": 19,
   "metadata": {},
   "outputs": [],
   "source": [
    "#Bin sleep3 = ['0-4', '5-7', '8+']\n",
    "cut_labels_s = ['0-4', '5-8', '9+']\n",
    "cut_bins = [-1, 5, 9, 10]\n",
    "df['sleep_bins'] = pd.cut(df['sleep_hrs'], bins=cut_bins, labels=cut_labels_s)"
   ]
  },
  {
   "cell_type": "code",
   "execution_count": 20,
   "metadata": {},
   "outputs": [
    {
     "data": {
      "text/plain": [
       "0        5-8\n",
       "1        5-8\n",
       "2        5-8\n",
       "3        0-4\n",
       "4        5-8\n",
       "        ... \n",
       "15967    5-8\n",
       "15968    5-8\n",
       "15969    5-8\n",
       "15970    5-8\n",
       "15971    5-8\n",
       "Name: sleep_bins, Length: 15971, dtype: category\n",
       "Categories (3, object): ['0-4' < '5-8' < '9+']"
      ]
     },
     "execution_count": 20,
     "metadata": {},
     "output_type": "execute_result"
    }
   ],
   "source": [
    "df.sleep_bins"
   ]
  },
  {
   "cell_type": "code",
   "execution_count": 21,
   "metadata": {},
   "outputs": [
    {
     "data": {
      "text/plain": [
       "5-8    14273\n",
       "0-4     1365\n",
       "9+       333\n",
       "Name: sleep_bins, dtype: int64"
      ]
     },
     "execution_count": 21,
     "metadata": {},
     "output_type": "execute_result"
    }
   ],
   "source": [
    "df.sleep_bins.value_counts()"
   ]
  },
  {
   "cell_type": "code",
   "execution_count": 22,
   "metadata": {},
   "outputs": [
    {
     "data": {
      "text/html": [
       "<div>\n",
       "<style scoped>\n",
       "    .dataframe tbody tr th:only-of-type {\n",
       "        vertical-align: middle;\n",
       "    }\n",
       "\n",
       "    .dataframe tbody tr th {\n",
       "        vertical-align: top;\n",
       "    }\n",
       "\n",
       "    .dataframe thead th {\n",
       "        text-align: right;\n",
       "    }\n",
       "</style>\n",
       "<table border=\"1\" class=\"dataframe\">\n",
       "  <thead>\n",
       "    <tr style=\"text-align: right;\">\n",
       "      <th></th>\n",
       "      <th>0-4</th>\n",
       "      <th>5-8</th>\n",
       "      <th>9+</th>\n",
       "    </tr>\n",
       "  </thead>\n",
       "  <tbody>\n",
       "    <tr>\n",
       "      <th>13312</th>\n",
       "      <td>0</td>\n",
       "      <td>1</td>\n",
       "      <td>0</td>\n",
       "    </tr>\n",
       "    <tr>\n",
       "      <th>2773</th>\n",
       "      <td>0</td>\n",
       "      <td>1</td>\n",
       "      <td>0</td>\n",
       "    </tr>\n",
       "    <tr>\n",
       "      <th>9017</th>\n",
       "      <td>0</td>\n",
       "      <td>1</td>\n",
       "      <td>0</td>\n",
       "    </tr>\n",
       "    <tr>\n",
       "      <th>6231</th>\n",
       "      <td>0</td>\n",
       "      <td>1</td>\n",
       "      <td>0</td>\n",
       "    </tr>\n",
       "    <tr>\n",
       "      <th>10971</th>\n",
       "      <td>0</td>\n",
       "      <td>1</td>\n",
       "      <td>0</td>\n",
       "    </tr>\n",
       "  </tbody>\n",
       "</table>\n",
       "</div>"
      ],
      "text/plain": [
       "       0-4  5-8  9+\n",
       "13312    0    1   0\n",
       "2773     0    1   0\n",
       "9017     0    1   0\n",
       "6231     0    1   0\n",
       "10971    0    1   0"
      ]
     },
     "execution_count": 22,
     "metadata": {},
     "output_type": "execute_result"
    }
   ],
   "source": [
    "# make dummy columns for sleep levels\n",
    "slp_dummies = pd.get_dummies(df.sleep_bins, drop_first=False)\n",
    "slp_dummies.sample(5)"
   ]
  },
  {
   "cell_type": "code",
   "execution_count": 23,
   "metadata": {},
   "outputs": [
    {
     "data": {
      "text/html": [
       "<div>\n",
       "<style scoped>\n",
       "    .dataframe tbody tr th:only-of-type {\n",
       "        vertical-align: middle;\n",
       "    }\n",
       "\n",
       "    .dataframe tbody tr th {\n",
       "        vertical-align: top;\n",
       "    }\n",
       "\n",
       "    .dataframe thead th {\n",
       "        text-align: right;\n",
       "    }\n",
       "</style>\n",
       "<table border=\"1\" class=\"dataframe\">\n",
       "  <thead>\n",
       "    <tr style=\"text-align: right;\">\n",
       "      <th></th>\n",
       "      <th>low_ach</th>\n",
       "      <th>avg_ach</th>\n",
       "      <th>high_ach</th>\n",
       "    </tr>\n",
       "  </thead>\n",
       "  <tbody>\n",
       "    <tr>\n",
       "      <th>6454</th>\n",
       "      <td>1</td>\n",
       "      <td>0</td>\n",
       "      <td>0</td>\n",
       "    </tr>\n",
       "    <tr>\n",
       "      <th>4959</th>\n",
       "      <td>0</td>\n",
       "      <td>1</td>\n",
       "      <td>0</td>\n",
       "    </tr>\n",
       "    <tr>\n",
       "      <th>15152</th>\n",
       "      <td>0</td>\n",
       "      <td>0</td>\n",
       "      <td>1</td>\n",
       "    </tr>\n",
       "    <tr>\n",
       "      <th>7206</th>\n",
       "      <td>0</td>\n",
       "      <td>1</td>\n",
       "      <td>0</td>\n",
       "    </tr>\n",
       "    <tr>\n",
       "      <th>11807</th>\n",
       "      <td>0</td>\n",
       "      <td>1</td>\n",
       "      <td>0</td>\n",
       "    </tr>\n",
       "  </tbody>\n",
       "</table>\n",
       "</div>"
      ],
      "text/plain": [
       "       low_ach  avg_ach  high_ach\n",
       "6454         1        0         0\n",
       "4959         0        1         0\n",
       "15152        0        0         1\n",
       "7206         0        1         0\n",
       "11807        0        1         0"
      ]
     },
     "execution_count": 23,
     "metadata": {},
     "output_type": "execute_result"
    }
   ],
   "source": [
    "# make dummy columns for achievement levels\n",
    "ach_dummies = pd.get_dummies(df.ach_level, drop_first=False)\n",
    "ach_dummies.sample(5)"
   ]
  },
  {
   "cell_type": "code",
   "execution_count": 24,
   "metadata": {},
   "outputs": [
    {
     "data": {
      "text/html": [
       "<div>\n",
       "<style scoped>\n",
       "    .dataframe tbody tr th:only-of-type {\n",
       "        vertical-align: middle;\n",
       "    }\n",
       "\n",
       "    .dataframe tbody tr th {\n",
       "        vertical-align: top;\n",
       "    }\n",
       "\n",
       "    .dataframe thead th {\n",
       "        text-align: right;\n",
       "    }\n",
       "</style>\n",
       "<table border=\"1\" class=\"dataframe\">\n",
       "  <thead>\n",
       "    <tr style=\"text-align: right;\">\n",
       "      <th></th>\n",
       "      <th>Female</th>\n",
       "      <th>Male</th>\n",
       "    </tr>\n",
       "  </thead>\n",
       "  <tbody>\n",
       "    <tr>\n",
       "      <th>3349</th>\n",
       "      <td>0</td>\n",
       "      <td>1</td>\n",
       "    </tr>\n",
       "    <tr>\n",
       "      <th>15106</th>\n",
       "      <td>1</td>\n",
       "      <td>0</td>\n",
       "    </tr>\n",
       "    <tr>\n",
       "      <th>7257</th>\n",
       "      <td>1</td>\n",
       "      <td>0</td>\n",
       "    </tr>\n",
       "    <tr>\n",
       "      <th>3029</th>\n",
       "      <td>1</td>\n",
       "      <td>0</td>\n",
       "    </tr>\n",
       "    <tr>\n",
       "      <th>12567</th>\n",
       "      <td>1</td>\n",
       "      <td>0</td>\n",
       "    </tr>\n",
       "  </tbody>\n",
       "</table>\n",
       "</div>"
      ],
      "text/plain": [
       "       Female  Male\n",
       "3349        0     1\n",
       "15106       1     0\n",
       "7257        1     0\n",
       "3029        1     0\n",
       "12567       1     0"
      ]
     },
     "execution_count": 24,
     "metadata": {},
     "output_type": "execute_result"
    }
   ],
   "source": [
    "# make dummy columns for gender\n",
    "gen_dummies = pd.get_dummies(df.gender, drop_first = False)\n",
    "gen_dummies.sample(5)"
   ]
  },
  {
   "cell_type": "code",
   "execution_count": null,
   "metadata": {},
   "outputs": [],
   "source": []
  },
  {
   "cell_type": "code",
   "execution_count": 25,
   "metadata": {},
   "outputs": [
    {
     "data": {
      "text/html": [
       "<div>\n",
       "<style scoped>\n",
       "    .dataframe tbody tr th:only-of-type {\n",
       "        vertical-align: middle;\n",
       "    }\n",
       "\n",
       "    .dataframe tbody tr th {\n",
       "        vertical-align: top;\n",
       "    }\n",
       "\n",
       "    .dataframe thead th {\n",
       "        text-align: right;\n",
       "    }\n",
       "</style>\n",
       "<table border=\"1\" class=\"dataframe\">\n",
       "  <thead>\n",
       "    <tr style=\"text-align: right;\">\n",
       "      <th></th>\n",
       "      <th>fruit_veg</th>\n",
       "      <th>stress</th>\n",
       "      <th>core_circle</th>\n",
       "      <th>support</th>\n",
       "      <th>social</th>\n",
       "      <th>achievement</th>\n",
       "      <th>donation</th>\n",
       "      <th>bmi</th>\n",
       "      <th>steps</th>\n",
       "      <th>vision</th>\n",
       "      <th>...</th>\n",
       "      <th>passion</th>\n",
       "      <th>meditation</th>\n",
       "      <th>age_range</th>\n",
       "      <th>gender</th>\n",
       "      <th>balance</th>\n",
       "      <th>ach_level</th>\n",
       "      <th>sleep_bins</th>\n",
       "      <th>low_ach</th>\n",
       "      <th>avg_ach</th>\n",
       "      <th>high_ach</th>\n",
       "    </tr>\n",
       "  </thead>\n",
       "  <tbody>\n",
       "    <tr>\n",
       "      <th>0</th>\n",
       "      <td>3</td>\n",
       "      <td>2</td>\n",
       "      <td>5</td>\n",
       "      <td>0</td>\n",
       "      <td>5</td>\n",
       "      <td>2</td>\n",
       "      <td>0</td>\n",
       "      <td>1</td>\n",
       "      <td>5</td>\n",
       "      <td>0</td>\n",
       "      <td>...</td>\n",
       "      <td>0</td>\n",
       "      <td>5</td>\n",
       "      <td>36 to 50</td>\n",
       "      <td>Female</td>\n",
       "      <td>609.5</td>\n",
       "      <td>avg_ach</td>\n",
       "      <td>5-8</td>\n",
       "      <td>0</td>\n",
       "      <td>1</td>\n",
       "      <td>0</td>\n",
       "    </tr>\n",
       "    <tr>\n",
       "      <th>1</th>\n",
       "      <td>2</td>\n",
       "      <td>3</td>\n",
       "      <td>3</td>\n",
       "      <td>8</td>\n",
       "      <td>10</td>\n",
       "      <td>5</td>\n",
       "      <td>2</td>\n",
       "      <td>2</td>\n",
       "      <td>5</td>\n",
       "      <td>5</td>\n",
       "      <td>...</td>\n",
       "      <td>2</td>\n",
       "      <td>6</td>\n",
       "      <td>36 to 50</td>\n",
       "      <td>Female</td>\n",
       "      <td>655.6</td>\n",
       "      <td>avg_ach</td>\n",
       "      <td>5-8</td>\n",
       "      <td>0</td>\n",
       "      <td>1</td>\n",
       "      <td>0</td>\n",
       "    </tr>\n",
       "    <tr>\n",
       "      <th>2</th>\n",
       "      <td>2</td>\n",
       "      <td>3</td>\n",
       "      <td>4</td>\n",
       "      <td>4</td>\n",
       "      <td>10</td>\n",
       "      <td>3</td>\n",
       "      <td>2</td>\n",
       "      <td>2</td>\n",
       "      <td>4</td>\n",
       "      <td>5</td>\n",
       "      <td>...</td>\n",
       "      <td>8</td>\n",
       "      <td>3</td>\n",
       "      <td>36 to 50</td>\n",
       "      <td>Female</td>\n",
       "      <td>631.6</td>\n",
       "      <td>avg_ach</td>\n",
       "      <td>5-8</td>\n",
       "      <td>0</td>\n",
       "      <td>1</td>\n",
       "      <td>0</td>\n",
       "    </tr>\n",
       "    <tr>\n",
       "      <th>3</th>\n",
       "      <td>3</td>\n",
       "      <td>3</td>\n",
       "      <td>3</td>\n",
       "      <td>10</td>\n",
       "      <td>7</td>\n",
       "      <td>2</td>\n",
       "      <td>5</td>\n",
       "      <td>2</td>\n",
       "      <td>5</td>\n",
       "      <td>0</td>\n",
       "      <td>...</td>\n",
       "      <td>2</td>\n",
       "      <td>0</td>\n",
       "      <td>51 or more</td>\n",
       "      <td>Female</td>\n",
       "      <td>622.7</td>\n",
       "      <td>avg_ach</td>\n",
       "      <td>0-4</td>\n",
       "      <td>0</td>\n",
       "      <td>1</td>\n",
       "      <td>0</td>\n",
       "    </tr>\n",
       "    <tr>\n",
       "      <th>4</th>\n",
       "      <td>5</td>\n",
       "      <td>1</td>\n",
       "      <td>3</td>\n",
       "      <td>10</td>\n",
       "      <td>4</td>\n",
       "      <td>2</td>\n",
       "      <td>4</td>\n",
       "      <td>2</td>\n",
       "      <td>5</td>\n",
       "      <td>0</td>\n",
       "      <td>...</td>\n",
       "      <td>1</td>\n",
       "      <td>5</td>\n",
       "      <td>51 or more</td>\n",
       "      <td>Female</td>\n",
       "      <td>663.9</td>\n",
       "      <td>avg_ach</td>\n",
       "      <td>5-8</td>\n",
       "      <td>0</td>\n",
       "      <td>1</td>\n",
       "      <td>0</td>\n",
       "    </tr>\n",
       "    <tr>\n",
       "      <th>...</th>\n",
       "      <td>...</td>\n",
       "      <td>...</td>\n",
       "      <td>...</td>\n",
       "      <td>...</td>\n",
       "      <td>...</td>\n",
       "      <td>...</td>\n",
       "      <td>...</td>\n",
       "      <td>...</td>\n",
       "      <td>...</td>\n",
       "      <td>...</td>\n",
       "      <td>...</td>\n",
       "      <td>...</td>\n",
       "      <td>...</td>\n",
       "      <td>...</td>\n",
       "      <td>...</td>\n",
       "      <td>...</td>\n",
       "      <td>...</td>\n",
       "      <td>...</td>\n",
       "      <td>...</td>\n",
       "      <td>...</td>\n",
       "      <td>...</td>\n",
       "    </tr>\n",
       "    <tr>\n",
       "      <th>15967</th>\n",
       "      <td>3</td>\n",
       "      <td>3</td>\n",
       "      <td>4</td>\n",
       "      <td>0</td>\n",
       "      <td>10</td>\n",
       "      <td>0</td>\n",
       "      <td>4</td>\n",
       "      <td>2</td>\n",
       "      <td>10</td>\n",
       "      <td>7</td>\n",
       "      <td>...</td>\n",
       "      <td>2</td>\n",
       "      <td>5</td>\n",
       "      <td>51 or more</td>\n",
       "      <td>Female</td>\n",
       "      <td>644.5</td>\n",
       "      <td>low_ach</td>\n",
       "      <td>5-8</td>\n",
       "      <td>1</td>\n",
       "      <td>0</td>\n",
       "      <td>0</td>\n",
       "    </tr>\n",
       "    <tr>\n",
       "      <th>15968</th>\n",
       "      <td>3</td>\n",
       "      <td>3</td>\n",
       "      <td>8</td>\n",
       "      <td>7</td>\n",
       "      <td>4</td>\n",
       "      <td>6</td>\n",
       "      <td>3</td>\n",
       "      <td>1</td>\n",
       "      <td>6</td>\n",
       "      <td>5</td>\n",
       "      <td>...</td>\n",
       "      <td>5</td>\n",
       "      <td>8</td>\n",
       "      <td>21 to 35</td>\n",
       "      <td>Female</td>\n",
       "      <td>714.9</td>\n",
       "      <td>avg_ach</td>\n",
       "      <td>5-8</td>\n",
       "      <td>0</td>\n",
       "      <td>1</td>\n",
       "      <td>0</td>\n",
       "    </tr>\n",
       "    <tr>\n",
       "      <th>15969</th>\n",
       "      <td>4</td>\n",
       "      <td>3</td>\n",
       "      <td>10</td>\n",
       "      <td>10</td>\n",
       "      <td>8</td>\n",
       "      <td>6</td>\n",
       "      <td>5</td>\n",
       "      <td>1</td>\n",
       "      <td>5</td>\n",
       "      <td>2</td>\n",
       "      <td>...</td>\n",
       "      <td>1</td>\n",
       "      <td>10</td>\n",
       "      <td>21 to 35</td>\n",
       "      <td>Male</td>\n",
       "      <td>716.6</td>\n",
       "      <td>avg_ach</td>\n",
       "      <td>5-8</td>\n",
       "      <td>0</td>\n",
       "      <td>1</td>\n",
       "      <td>0</td>\n",
       "    </tr>\n",
       "    <tr>\n",
       "      <th>15970</th>\n",
       "      <td>1</td>\n",
       "      <td>1</td>\n",
       "      <td>8</td>\n",
       "      <td>2</td>\n",
       "      <td>7</td>\n",
       "      <td>3</td>\n",
       "      <td>2</td>\n",
       "      <td>1</td>\n",
       "      <td>1</td>\n",
       "      <td>5</td>\n",
       "      <td>...</td>\n",
       "      <td>6</td>\n",
       "      <td>8</td>\n",
       "      <td>21 to 35</td>\n",
       "      <td>Female</td>\n",
       "      <td>682.0</td>\n",
       "      <td>avg_ach</td>\n",
       "      <td>5-8</td>\n",
       "      <td>0</td>\n",
       "      <td>1</td>\n",
       "      <td>0</td>\n",
       "    </tr>\n",
       "    <tr>\n",
       "      <th>15971</th>\n",
       "      <td>5</td>\n",
       "      <td>4</td>\n",
       "      <td>2</td>\n",
       "      <td>10</td>\n",
       "      <td>10</td>\n",
       "      <td>5</td>\n",
       "      <td>1</td>\n",
       "      <td>2</td>\n",
       "      <td>1</td>\n",
       "      <td>5</td>\n",
       "      <td>...</td>\n",
       "      <td>8</td>\n",
       "      <td>4</td>\n",
       "      <td>21 to 35</td>\n",
       "      <td>Female</td>\n",
       "      <td>651.4</td>\n",
       "      <td>avg_ach</td>\n",
       "      <td>5-8</td>\n",
       "      <td>0</td>\n",
       "      <td>1</td>\n",
       "      <td>0</td>\n",
       "    </tr>\n",
       "  </tbody>\n",
       "</table>\n",
       "<p>15971 rows × 23 columns</p>\n",
       "</div>"
      ],
      "text/plain": [
       "       fruit_veg  stress  core_circle  support  social  achievement  donation  \\\n",
       "0              3       2            5        0       5            2         0   \n",
       "1              2       3            3        8      10            5         2   \n",
       "2              2       3            4        4      10            3         2   \n",
       "3              3       3            3       10       7            2         5   \n",
       "4              5       1            3       10       4            2         4   \n",
       "...          ...     ...          ...      ...     ...          ...       ...   \n",
       "15967          3       3            4        0      10            0         4   \n",
       "15968          3       3            8        7       4            6         3   \n",
       "15969          4       3           10       10       8            6         5   \n",
       "15970          1       1            8        2       7            3         2   \n",
       "15971          5       4            2       10      10            5         1   \n",
       "\n",
       "       bmi  steps  vision  ...  passion  meditation   age_range  gender  \\\n",
       "0        1      5       0  ...        0           5    36 to 50  Female   \n",
       "1        2      5       5  ...        2           6    36 to 50  Female   \n",
       "2        2      4       5  ...        8           3    36 to 50  Female   \n",
       "3        2      5       0  ...        2           0  51 or more  Female   \n",
       "4        2      5       0  ...        1           5  51 or more  Female   \n",
       "...    ...    ...     ...  ...      ...         ...         ...     ...   \n",
       "15967    2     10       7  ...        2           5  51 or more  Female   \n",
       "15968    1      6       5  ...        5           8    21 to 35  Female   \n",
       "15969    1      5       2  ...        1          10    21 to 35    Male   \n",
       "15970    1      1       5  ...        6           8    21 to 35  Female   \n",
       "15971    2      1       5  ...        8           4    21 to 35  Female   \n",
       "\n",
       "       balance ach_level sleep_bins  low_ach avg_ach high_ach  \n",
       "0        609.5   avg_ach        5-8        0       1        0  \n",
       "1        655.6   avg_ach        5-8        0       1        0  \n",
       "2        631.6   avg_ach        5-8        0       1        0  \n",
       "3        622.7   avg_ach        0-4        0       1        0  \n",
       "4        663.9   avg_ach        5-8        0       1        0  \n",
       "...        ...       ...        ...      ...     ...      ...  \n",
       "15967    644.5   low_ach        5-8        1       0        0  \n",
       "15968    714.9   avg_ach        5-8        0       1        0  \n",
       "15969    716.6   avg_ach        5-8        0       1        0  \n",
       "15970    682.0   avg_ach        5-8        0       1        0  \n",
       "15971    651.4   avg_ach        5-8        0       1        0  \n",
       "\n",
       "[15971 rows x 23 columns]"
      ]
     },
     "execution_count": 25,
     "metadata": {},
     "output_type": "execute_result"
    }
   ],
   "source": [
    "# Add encoded columns back onto original dataframe.\n",
    "\n",
    "df2 = pd.concat([df, ach_dummies], axis=1)\n",
    "df2"
   ]
  },
  {
   "cell_type": "code",
   "execution_count": null,
   "metadata": {},
   "outputs": [],
   "source": [
    "\n"
   ]
  },
  {
   "cell_type": "code",
   "execution_count": 26,
   "metadata": {},
   "outputs": [
    {
     "data": {
      "text/html": [
       "<div>\n",
       "<style scoped>\n",
       "    .dataframe tbody tr th:only-of-type {\n",
       "        vertical-align: middle;\n",
       "    }\n",
       "\n",
       "    .dataframe tbody tr th {\n",
       "        vertical-align: top;\n",
       "    }\n",
       "\n",
       "    .dataframe thead th {\n",
       "        text-align: right;\n",
       "    }\n",
       "</style>\n",
       "<table border=\"1\" class=\"dataframe\">\n",
       "  <thead>\n",
       "    <tr style=\"text-align: right;\">\n",
       "      <th></th>\n",
       "      <th>fruit_veg</th>\n",
       "      <th>stress</th>\n",
       "      <th>core_circle</th>\n",
       "      <th>support</th>\n",
       "      <th>social</th>\n",
       "      <th>achievement</th>\n",
       "      <th>donation</th>\n",
       "      <th>bmi</th>\n",
       "      <th>steps</th>\n",
       "      <th>vision</th>\n",
       "      <th>...</th>\n",
       "      <th>age_range</th>\n",
       "      <th>gender</th>\n",
       "      <th>balance</th>\n",
       "      <th>ach_level</th>\n",
       "      <th>sleep_bins</th>\n",
       "      <th>low_ach</th>\n",
       "      <th>avg_ach</th>\n",
       "      <th>high_ach</th>\n",
       "      <th>Female</th>\n",
       "      <th>Male</th>\n",
       "    </tr>\n",
       "  </thead>\n",
       "  <tbody>\n",
       "    <tr>\n",
       "      <th>0</th>\n",
       "      <td>3</td>\n",
       "      <td>2</td>\n",
       "      <td>5</td>\n",
       "      <td>0</td>\n",
       "      <td>5</td>\n",
       "      <td>2</td>\n",
       "      <td>0</td>\n",
       "      <td>1</td>\n",
       "      <td>5</td>\n",
       "      <td>0</td>\n",
       "      <td>...</td>\n",
       "      <td>36 to 50</td>\n",
       "      <td>Female</td>\n",
       "      <td>609.5</td>\n",
       "      <td>avg_ach</td>\n",
       "      <td>5-8</td>\n",
       "      <td>0</td>\n",
       "      <td>1</td>\n",
       "      <td>0</td>\n",
       "      <td>1</td>\n",
       "      <td>0</td>\n",
       "    </tr>\n",
       "    <tr>\n",
       "      <th>1</th>\n",
       "      <td>2</td>\n",
       "      <td>3</td>\n",
       "      <td>3</td>\n",
       "      <td>8</td>\n",
       "      <td>10</td>\n",
       "      <td>5</td>\n",
       "      <td>2</td>\n",
       "      <td>2</td>\n",
       "      <td>5</td>\n",
       "      <td>5</td>\n",
       "      <td>...</td>\n",
       "      <td>36 to 50</td>\n",
       "      <td>Female</td>\n",
       "      <td>655.6</td>\n",
       "      <td>avg_ach</td>\n",
       "      <td>5-8</td>\n",
       "      <td>0</td>\n",
       "      <td>1</td>\n",
       "      <td>0</td>\n",
       "      <td>1</td>\n",
       "      <td>0</td>\n",
       "    </tr>\n",
       "    <tr>\n",
       "      <th>2</th>\n",
       "      <td>2</td>\n",
       "      <td>3</td>\n",
       "      <td>4</td>\n",
       "      <td>4</td>\n",
       "      <td>10</td>\n",
       "      <td>3</td>\n",
       "      <td>2</td>\n",
       "      <td>2</td>\n",
       "      <td>4</td>\n",
       "      <td>5</td>\n",
       "      <td>...</td>\n",
       "      <td>36 to 50</td>\n",
       "      <td>Female</td>\n",
       "      <td>631.6</td>\n",
       "      <td>avg_ach</td>\n",
       "      <td>5-8</td>\n",
       "      <td>0</td>\n",
       "      <td>1</td>\n",
       "      <td>0</td>\n",
       "      <td>1</td>\n",
       "      <td>0</td>\n",
       "    </tr>\n",
       "    <tr>\n",
       "      <th>3</th>\n",
       "      <td>3</td>\n",
       "      <td>3</td>\n",
       "      <td>3</td>\n",
       "      <td>10</td>\n",
       "      <td>7</td>\n",
       "      <td>2</td>\n",
       "      <td>5</td>\n",
       "      <td>2</td>\n",
       "      <td>5</td>\n",
       "      <td>0</td>\n",
       "      <td>...</td>\n",
       "      <td>51 or more</td>\n",
       "      <td>Female</td>\n",
       "      <td>622.7</td>\n",
       "      <td>avg_ach</td>\n",
       "      <td>0-4</td>\n",
       "      <td>0</td>\n",
       "      <td>1</td>\n",
       "      <td>0</td>\n",
       "      <td>1</td>\n",
       "      <td>0</td>\n",
       "    </tr>\n",
       "    <tr>\n",
       "      <th>4</th>\n",
       "      <td>5</td>\n",
       "      <td>1</td>\n",
       "      <td>3</td>\n",
       "      <td>10</td>\n",
       "      <td>4</td>\n",
       "      <td>2</td>\n",
       "      <td>4</td>\n",
       "      <td>2</td>\n",
       "      <td>5</td>\n",
       "      <td>0</td>\n",
       "      <td>...</td>\n",
       "      <td>51 or more</td>\n",
       "      <td>Female</td>\n",
       "      <td>663.9</td>\n",
       "      <td>avg_ach</td>\n",
       "      <td>5-8</td>\n",
       "      <td>0</td>\n",
       "      <td>1</td>\n",
       "      <td>0</td>\n",
       "      <td>1</td>\n",
       "      <td>0</td>\n",
       "    </tr>\n",
       "    <tr>\n",
       "      <th>...</th>\n",
       "      <td>...</td>\n",
       "      <td>...</td>\n",
       "      <td>...</td>\n",
       "      <td>...</td>\n",
       "      <td>...</td>\n",
       "      <td>...</td>\n",
       "      <td>...</td>\n",
       "      <td>...</td>\n",
       "      <td>...</td>\n",
       "      <td>...</td>\n",
       "      <td>...</td>\n",
       "      <td>...</td>\n",
       "      <td>...</td>\n",
       "      <td>...</td>\n",
       "      <td>...</td>\n",
       "      <td>...</td>\n",
       "      <td>...</td>\n",
       "      <td>...</td>\n",
       "      <td>...</td>\n",
       "      <td>...</td>\n",
       "      <td>...</td>\n",
       "    </tr>\n",
       "    <tr>\n",
       "      <th>15967</th>\n",
       "      <td>3</td>\n",
       "      <td>3</td>\n",
       "      <td>4</td>\n",
       "      <td>0</td>\n",
       "      <td>10</td>\n",
       "      <td>0</td>\n",
       "      <td>4</td>\n",
       "      <td>2</td>\n",
       "      <td>10</td>\n",
       "      <td>7</td>\n",
       "      <td>...</td>\n",
       "      <td>51 or more</td>\n",
       "      <td>Female</td>\n",
       "      <td>644.5</td>\n",
       "      <td>low_ach</td>\n",
       "      <td>5-8</td>\n",
       "      <td>1</td>\n",
       "      <td>0</td>\n",
       "      <td>0</td>\n",
       "      <td>1</td>\n",
       "      <td>0</td>\n",
       "    </tr>\n",
       "    <tr>\n",
       "      <th>15968</th>\n",
       "      <td>3</td>\n",
       "      <td>3</td>\n",
       "      <td>8</td>\n",
       "      <td>7</td>\n",
       "      <td>4</td>\n",
       "      <td>6</td>\n",
       "      <td>3</td>\n",
       "      <td>1</td>\n",
       "      <td>6</td>\n",
       "      <td>5</td>\n",
       "      <td>...</td>\n",
       "      <td>21 to 35</td>\n",
       "      <td>Female</td>\n",
       "      <td>714.9</td>\n",
       "      <td>avg_ach</td>\n",
       "      <td>5-8</td>\n",
       "      <td>0</td>\n",
       "      <td>1</td>\n",
       "      <td>0</td>\n",
       "      <td>1</td>\n",
       "      <td>0</td>\n",
       "    </tr>\n",
       "    <tr>\n",
       "      <th>15969</th>\n",
       "      <td>4</td>\n",
       "      <td>3</td>\n",
       "      <td>10</td>\n",
       "      <td>10</td>\n",
       "      <td>8</td>\n",
       "      <td>6</td>\n",
       "      <td>5</td>\n",
       "      <td>1</td>\n",
       "      <td>5</td>\n",
       "      <td>2</td>\n",
       "      <td>...</td>\n",
       "      <td>21 to 35</td>\n",
       "      <td>Male</td>\n",
       "      <td>716.6</td>\n",
       "      <td>avg_ach</td>\n",
       "      <td>5-8</td>\n",
       "      <td>0</td>\n",
       "      <td>1</td>\n",
       "      <td>0</td>\n",
       "      <td>0</td>\n",
       "      <td>1</td>\n",
       "    </tr>\n",
       "    <tr>\n",
       "      <th>15970</th>\n",
       "      <td>1</td>\n",
       "      <td>1</td>\n",
       "      <td>8</td>\n",
       "      <td>2</td>\n",
       "      <td>7</td>\n",
       "      <td>3</td>\n",
       "      <td>2</td>\n",
       "      <td>1</td>\n",
       "      <td>1</td>\n",
       "      <td>5</td>\n",
       "      <td>...</td>\n",
       "      <td>21 to 35</td>\n",
       "      <td>Female</td>\n",
       "      <td>682.0</td>\n",
       "      <td>avg_ach</td>\n",
       "      <td>5-8</td>\n",
       "      <td>0</td>\n",
       "      <td>1</td>\n",
       "      <td>0</td>\n",
       "      <td>1</td>\n",
       "      <td>0</td>\n",
       "    </tr>\n",
       "    <tr>\n",
       "      <th>15971</th>\n",
       "      <td>5</td>\n",
       "      <td>4</td>\n",
       "      <td>2</td>\n",
       "      <td>10</td>\n",
       "      <td>10</td>\n",
       "      <td>5</td>\n",
       "      <td>1</td>\n",
       "      <td>2</td>\n",
       "      <td>1</td>\n",
       "      <td>5</td>\n",
       "      <td>...</td>\n",
       "      <td>21 to 35</td>\n",
       "      <td>Female</td>\n",
       "      <td>651.4</td>\n",
       "      <td>avg_ach</td>\n",
       "      <td>5-8</td>\n",
       "      <td>0</td>\n",
       "      <td>1</td>\n",
       "      <td>0</td>\n",
       "      <td>1</td>\n",
       "      <td>0</td>\n",
       "    </tr>\n",
       "  </tbody>\n",
       "</table>\n",
       "<p>15971 rows × 25 columns</p>\n",
       "</div>"
      ],
      "text/plain": [
       "       fruit_veg  stress  core_circle  support  social  achievement  donation  \\\n",
       "0              3       2            5        0       5            2         0   \n",
       "1              2       3            3        8      10            5         2   \n",
       "2              2       3            4        4      10            3         2   \n",
       "3              3       3            3       10       7            2         5   \n",
       "4              5       1            3       10       4            2         4   \n",
       "...          ...     ...          ...      ...     ...          ...       ...   \n",
       "15967          3       3            4        0      10            0         4   \n",
       "15968          3       3            8        7       4            6         3   \n",
       "15969          4       3           10       10       8            6         5   \n",
       "15970          1       1            8        2       7            3         2   \n",
       "15971          5       4            2       10      10            5         1   \n",
       "\n",
       "       bmi  steps  vision  ...   age_range  gender  balance  ach_level  \\\n",
       "0        1      5       0  ...    36 to 50  Female    609.5    avg_ach   \n",
       "1        2      5       5  ...    36 to 50  Female    655.6    avg_ach   \n",
       "2        2      4       5  ...    36 to 50  Female    631.6    avg_ach   \n",
       "3        2      5       0  ...  51 or more  Female    622.7    avg_ach   \n",
       "4        2      5       0  ...  51 or more  Female    663.9    avg_ach   \n",
       "...    ...    ...     ...  ...         ...     ...      ...        ...   \n",
       "15967    2     10       7  ...  51 or more  Female    644.5    low_ach   \n",
       "15968    1      6       5  ...    21 to 35  Female    714.9    avg_ach   \n",
       "15969    1      5       2  ...    21 to 35    Male    716.6    avg_ach   \n",
       "15970    1      1       5  ...    21 to 35  Female    682.0    avg_ach   \n",
       "15971    2      1       5  ...    21 to 35  Female    651.4    avg_ach   \n",
       "\n",
       "       sleep_bins low_ach avg_ach  high_ach Female Male  \n",
       "0             5-8       0       1         0      1    0  \n",
       "1             5-8       0       1         0      1    0  \n",
       "2             5-8       0       1         0      1    0  \n",
       "3             0-4       0       1         0      1    0  \n",
       "4             5-8       0       1         0      1    0  \n",
       "...           ...     ...     ...       ...    ...  ...  \n",
       "15967         5-8       1       0         0      1    0  \n",
       "15968         5-8       0       1         0      1    0  \n",
       "15969         5-8       0       1         0      0    1  \n",
       "15970         5-8       0       1         0      1    0  \n",
       "15971         5-8       0       1         0      1    0  \n",
       "\n",
       "[15971 rows x 25 columns]"
      ]
     },
     "execution_count": 26,
     "metadata": {},
     "output_type": "execute_result"
    }
   ],
   "source": [
    "df3 = pd.concat([df2, gen_dummies], axis=1)\n",
    "df3"
   ]
  },
  {
   "cell_type": "code",
   "execution_count": 27,
   "metadata": {},
   "outputs": [],
   "source": [
    "df3.rename(columns = {'Female':'female', 'Male':'male'}, inplace=True)"
   ]
  },
  {
   "cell_type": "code",
   "execution_count": 28,
   "metadata": {},
   "outputs": [
    {
     "data": {
      "text/html": [
       "<div>\n",
       "<style scoped>\n",
       "    .dataframe tbody tr th:only-of-type {\n",
       "        vertical-align: middle;\n",
       "    }\n",
       "\n",
       "    .dataframe tbody tr th {\n",
       "        vertical-align: top;\n",
       "    }\n",
       "\n",
       "    .dataframe thead th {\n",
       "        text-align: right;\n",
       "    }\n",
       "</style>\n",
       "<table border=\"1\" class=\"dataframe\">\n",
       "  <thead>\n",
       "    <tr style=\"text-align: right;\">\n",
       "      <th></th>\n",
       "      <th>fruit_veg</th>\n",
       "      <th>stress</th>\n",
       "      <th>core_circle</th>\n",
       "      <th>support</th>\n",
       "      <th>social</th>\n",
       "      <th>achievement</th>\n",
       "      <th>donation</th>\n",
       "      <th>bmi</th>\n",
       "      <th>steps</th>\n",
       "      <th>vision</th>\n",
       "      <th>...</th>\n",
       "      <th>age_range</th>\n",
       "      <th>gender</th>\n",
       "      <th>balance</th>\n",
       "      <th>ach_level</th>\n",
       "      <th>sleep_bins</th>\n",
       "      <th>low_ach</th>\n",
       "      <th>avg_ach</th>\n",
       "      <th>high_ach</th>\n",
       "      <th>female</th>\n",
       "      <th>male</th>\n",
       "    </tr>\n",
       "  </thead>\n",
       "  <tbody>\n",
       "    <tr>\n",
       "      <th>0</th>\n",
       "      <td>3</td>\n",
       "      <td>2</td>\n",
       "      <td>5</td>\n",
       "      <td>0</td>\n",
       "      <td>5</td>\n",
       "      <td>2</td>\n",
       "      <td>0</td>\n",
       "      <td>1</td>\n",
       "      <td>5</td>\n",
       "      <td>0</td>\n",
       "      <td>...</td>\n",
       "      <td>36 to 50</td>\n",
       "      <td>Female</td>\n",
       "      <td>609.5</td>\n",
       "      <td>avg_ach</td>\n",
       "      <td>5-8</td>\n",
       "      <td>0</td>\n",
       "      <td>1</td>\n",
       "      <td>0</td>\n",
       "      <td>1</td>\n",
       "      <td>0</td>\n",
       "    </tr>\n",
       "    <tr>\n",
       "      <th>1</th>\n",
       "      <td>2</td>\n",
       "      <td>3</td>\n",
       "      <td>3</td>\n",
       "      <td>8</td>\n",
       "      <td>10</td>\n",
       "      <td>5</td>\n",
       "      <td>2</td>\n",
       "      <td>2</td>\n",
       "      <td>5</td>\n",
       "      <td>5</td>\n",
       "      <td>...</td>\n",
       "      <td>36 to 50</td>\n",
       "      <td>Female</td>\n",
       "      <td>655.6</td>\n",
       "      <td>avg_ach</td>\n",
       "      <td>5-8</td>\n",
       "      <td>0</td>\n",
       "      <td>1</td>\n",
       "      <td>0</td>\n",
       "      <td>1</td>\n",
       "      <td>0</td>\n",
       "    </tr>\n",
       "    <tr>\n",
       "      <th>2</th>\n",
       "      <td>2</td>\n",
       "      <td>3</td>\n",
       "      <td>4</td>\n",
       "      <td>4</td>\n",
       "      <td>10</td>\n",
       "      <td>3</td>\n",
       "      <td>2</td>\n",
       "      <td>2</td>\n",
       "      <td>4</td>\n",
       "      <td>5</td>\n",
       "      <td>...</td>\n",
       "      <td>36 to 50</td>\n",
       "      <td>Female</td>\n",
       "      <td>631.6</td>\n",
       "      <td>avg_ach</td>\n",
       "      <td>5-8</td>\n",
       "      <td>0</td>\n",
       "      <td>1</td>\n",
       "      <td>0</td>\n",
       "      <td>1</td>\n",
       "      <td>0</td>\n",
       "    </tr>\n",
       "    <tr>\n",
       "      <th>3</th>\n",
       "      <td>3</td>\n",
       "      <td>3</td>\n",
       "      <td>3</td>\n",
       "      <td>10</td>\n",
       "      <td>7</td>\n",
       "      <td>2</td>\n",
       "      <td>5</td>\n",
       "      <td>2</td>\n",
       "      <td>5</td>\n",
       "      <td>0</td>\n",
       "      <td>...</td>\n",
       "      <td>51 or more</td>\n",
       "      <td>Female</td>\n",
       "      <td>622.7</td>\n",
       "      <td>avg_ach</td>\n",
       "      <td>0-4</td>\n",
       "      <td>0</td>\n",
       "      <td>1</td>\n",
       "      <td>0</td>\n",
       "      <td>1</td>\n",
       "      <td>0</td>\n",
       "    </tr>\n",
       "    <tr>\n",
       "      <th>4</th>\n",
       "      <td>5</td>\n",
       "      <td>1</td>\n",
       "      <td>3</td>\n",
       "      <td>10</td>\n",
       "      <td>4</td>\n",
       "      <td>2</td>\n",
       "      <td>4</td>\n",
       "      <td>2</td>\n",
       "      <td>5</td>\n",
       "      <td>0</td>\n",
       "      <td>...</td>\n",
       "      <td>51 or more</td>\n",
       "      <td>Female</td>\n",
       "      <td>663.9</td>\n",
       "      <td>avg_ach</td>\n",
       "      <td>5-8</td>\n",
       "      <td>0</td>\n",
       "      <td>1</td>\n",
       "      <td>0</td>\n",
       "      <td>1</td>\n",
       "      <td>0</td>\n",
       "    </tr>\n",
       "    <tr>\n",
       "      <th>...</th>\n",
       "      <td>...</td>\n",
       "      <td>...</td>\n",
       "      <td>...</td>\n",
       "      <td>...</td>\n",
       "      <td>...</td>\n",
       "      <td>...</td>\n",
       "      <td>...</td>\n",
       "      <td>...</td>\n",
       "      <td>...</td>\n",
       "      <td>...</td>\n",
       "      <td>...</td>\n",
       "      <td>...</td>\n",
       "      <td>...</td>\n",
       "      <td>...</td>\n",
       "      <td>...</td>\n",
       "      <td>...</td>\n",
       "      <td>...</td>\n",
       "      <td>...</td>\n",
       "      <td>...</td>\n",
       "      <td>...</td>\n",
       "      <td>...</td>\n",
       "    </tr>\n",
       "    <tr>\n",
       "      <th>15967</th>\n",
       "      <td>3</td>\n",
       "      <td>3</td>\n",
       "      <td>4</td>\n",
       "      <td>0</td>\n",
       "      <td>10</td>\n",
       "      <td>0</td>\n",
       "      <td>4</td>\n",
       "      <td>2</td>\n",
       "      <td>10</td>\n",
       "      <td>7</td>\n",
       "      <td>...</td>\n",
       "      <td>51 or more</td>\n",
       "      <td>Female</td>\n",
       "      <td>644.5</td>\n",
       "      <td>low_ach</td>\n",
       "      <td>5-8</td>\n",
       "      <td>1</td>\n",
       "      <td>0</td>\n",
       "      <td>0</td>\n",
       "      <td>1</td>\n",
       "      <td>0</td>\n",
       "    </tr>\n",
       "    <tr>\n",
       "      <th>15968</th>\n",
       "      <td>3</td>\n",
       "      <td>3</td>\n",
       "      <td>8</td>\n",
       "      <td>7</td>\n",
       "      <td>4</td>\n",
       "      <td>6</td>\n",
       "      <td>3</td>\n",
       "      <td>1</td>\n",
       "      <td>6</td>\n",
       "      <td>5</td>\n",
       "      <td>...</td>\n",
       "      <td>21 to 35</td>\n",
       "      <td>Female</td>\n",
       "      <td>714.9</td>\n",
       "      <td>avg_ach</td>\n",
       "      <td>5-8</td>\n",
       "      <td>0</td>\n",
       "      <td>1</td>\n",
       "      <td>0</td>\n",
       "      <td>1</td>\n",
       "      <td>0</td>\n",
       "    </tr>\n",
       "    <tr>\n",
       "      <th>15969</th>\n",
       "      <td>4</td>\n",
       "      <td>3</td>\n",
       "      <td>10</td>\n",
       "      <td>10</td>\n",
       "      <td>8</td>\n",
       "      <td>6</td>\n",
       "      <td>5</td>\n",
       "      <td>1</td>\n",
       "      <td>5</td>\n",
       "      <td>2</td>\n",
       "      <td>...</td>\n",
       "      <td>21 to 35</td>\n",
       "      <td>Male</td>\n",
       "      <td>716.6</td>\n",
       "      <td>avg_ach</td>\n",
       "      <td>5-8</td>\n",
       "      <td>0</td>\n",
       "      <td>1</td>\n",
       "      <td>0</td>\n",
       "      <td>0</td>\n",
       "      <td>1</td>\n",
       "    </tr>\n",
       "    <tr>\n",
       "      <th>15970</th>\n",
       "      <td>1</td>\n",
       "      <td>1</td>\n",
       "      <td>8</td>\n",
       "      <td>2</td>\n",
       "      <td>7</td>\n",
       "      <td>3</td>\n",
       "      <td>2</td>\n",
       "      <td>1</td>\n",
       "      <td>1</td>\n",
       "      <td>5</td>\n",
       "      <td>...</td>\n",
       "      <td>21 to 35</td>\n",
       "      <td>Female</td>\n",
       "      <td>682.0</td>\n",
       "      <td>avg_ach</td>\n",
       "      <td>5-8</td>\n",
       "      <td>0</td>\n",
       "      <td>1</td>\n",
       "      <td>0</td>\n",
       "      <td>1</td>\n",
       "      <td>0</td>\n",
       "    </tr>\n",
       "    <tr>\n",
       "      <th>15971</th>\n",
       "      <td>5</td>\n",
       "      <td>4</td>\n",
       "      <td>2</td>\n",
       "      <td>10</td>\n",
       "      <td>10</td>\n",
       "      <td>5</td>\n",
       "      <td>1</td>\n",
       "      <td>2</td>\n",
       "      <td>1</td>\n",
       "      <td>5</td>\n",
       "      <td>...</td>\n",
       "      <td>21 to 35</td>\n",
       "      <td>Female</td>\n",
       "      <td>651.4</td>\n",
       "      <td>avg_ach</td>\n",
       "      <td>5-8</td>\n",
       "      <td>0</td>\n",
       "      <td>1</td>\n",
       "      <td>0</td>\n",
       "      <td>1</td>\n",
       "      <td>0</td>\n",
       "    </tr>\n",
       "  </tbody>\n",
       "</table>\n",
       "<p>15971 rows × 25 columns</p>\n",
       "</div>"
      ],
      "text/plain": [
       "       fruit_veg  stress  core_circle  support  social  achievement  donation  \\\n",
       "0              3       2            5        0       5            2         0   \n",
       "1              2       3            3        8      10            5         2   \n",
       "2              2       3            4        4      10            3         2   \n",
       "3              3       3            3       10       7            2         5   \n",
       "4              5       1            3       10       4            2         4   \n",
       "...          ...     ...          ...      ...     ...          ...       ...   \n",
       "15967          3       3            4        0      10            0         4   \n",
       "15968          3       3            8        7       4            6         3   \n",
       "15969          4       3           10       10       8            6         5   \n",
       "15970          1       1            8        2       7            3         2   \n",
       "15971          5       4            2       10      10            5         1   \n",
       "\n",
       "       bmi  steps  vision  ...   age_range  gender  balance  ach_level  \\\n",
       "0        1      5       0  ...    36 to 50  Female    609.5    avg_ach   \n",
       "1        2      5       5  ...    36 to 50  Female    655.6    avg_ach   \n",
       "2        2      4       5  ...    36 to 50  Female    631.6    avg_ach   \n",
       "3        2      5       0  ...  51 or more  Female    622.7    avg_ach   \n",
       "4        2      5       0  ...  51 or more  Female    663.9    avg_ach   \n",
       "...    ...    ...     ...  ...         ...     ...      ...        ...   \n",
       "15967    2     10       7  ...  51 or more  Female    644.5    low_ach   \n",
       "15968    1      6       5  ...    21 to 35  Female    714.9    avg_ach   \n",
       "15969    1      5       2  ...    21 to 35    Male    716.6    avg_ach   \n",
       "15970    1      1       5  ...    21 to 35  Female    682.0    avg_ach   \n",
       "15971    2      1       5  ...    21 to 35  Female    651.4    avg_ach   \n",
       "\n",
       "       sleep_bins low_ach avg_ach  high_ach female male  \n",
       "0             5-8       0       1         0      1    0  \n",
       "1             5-8       0       1         0      1    0  \n",
       "2             5-8       0       1         0      1    0  \n",
       "3             0-4       0       1         0      1    0  \n",
       "4             5-8       0       1         0      1    0  \n",
       "...           ...     ...     ...       ...    ...  ...  \n",
       "15967         5-8       1       0         0      1    0  \n",
       "15968         5-8       0       1         0      1    0  \n",
       "15969         5-8       0       1         0      0    1  \n",
       "15970         5-8       0       1         0      1    0  \n",
       "15971         5-8       0       1         0      1    0  \n",
       "\n",
       "[15971 rows x 25 columns]"
      ]
     },
     "execution_count": 28,
     "metadata": {},
     "output_type": "execute_result"
    }
   ],
   "source": [
    "df3"
   ]
  },
  {
   "cell_type": "code",
   "execution_count": 29,
   "metadata": {},
   "outputs": [
    {
     "data": {
      "text/html": [
       "<div>\n",
       "<style scoped>\n",
       "    .dataframe tbody tr th:only-of-type {\n",
       "        vertical-align: middle;\n",
       "    }\n",
       "\n",
       "    .dataframe tbody tr th {\n",
       "        vertical-align: top;\n",
       "    }\n",
       "\n",
       "    .dataframe thead th {\n",
       "        text-align: right;\n",
       "    }\n",
       "</style>\n",
       "<table border=\"1\" class=\"dataframe\">\n",
       "  <thead>\n",
       "    <tr style=\"text-align: right;\">\n",
       "      <th></th>\n",
       "      <th>fruit_veg</th>\n",
       "      <th>stress</th>\n",
       "      <th>core_circle</th>\n",
       "      <th>support</th>\n",
       "      <th>social</th>\n",
       "      <th>achievement</th>\n",
       "      <th>donation</th>\n",
       "      <th>bmi</th>\n",
       "      <th>steps</th>\n",
       "      <th>vision</th>\n",
       "      <th>...</th>\n",
       "      <th>sleep_bins</th>\n",
       "      <th>low_ach</th>\n",
       "      <th>avg_ach</th>\n",
       "      <th>high_ach</th>\n",
       "      <th>female</th>\n",
       "      <th>male</th>\n",
       "      <th>21 to 35</th>\n",
       "      <th>36 to 50</th>\n",
       "      <th>51 or more</th>\n",
       "      <th>Less than 20</th>\n",
       "    </tr>\n",
       "  </thead>\n",
       "  <tbody>\n",
       "    <tr>\n",
       "      <th>0</th>\n",
       "      <td>3</td>\n",
       "      <td>2</td>\n",
       "      <td>5</td>\n",
       "      <td>0</td>\n",
       "      <td>5</td>\n",
       "      <td>2</td>\n",
       "      <td>0</td>\n",
       "      <td>1</td>\n",
       "      <td>5</td>\n",
       "      <td>0</td>\n",
       "      <td>...</td>\n",
       "      <td>5-8</td>\n",
       "      <td>0</td>\n",
       "      <td>1</td>\n",
       "      <td>0</td>\n",
       "      <td>1</td>\n",
       "      <td>0</td>\n",
       "      <td>0</td>\n",
       "      <td>1</td>\n",
       "      <td>0</td>\n",
       "      <td>0</td>\n",
       "    </tr>\n",
       "    <tr>\n",
       "      <th>1</th>\n",
       "      <td>2</td>\n",
       "      <td>3</td>\n",
       "      <td>3</td>\n",
       "      <td>8</td>\n",
       "      <td>10</td>\n",
       "      <td>5</td>\n",
       "      <td>2</td>\n",
       "      <td>2</td>\n",
       "      <td>5</td>\n",
       "      <td>5</td>\n",
       "      <td>...</td>\n",
       "      <td>5-8</td>\n",
       "      <td>0</td>\n",
       "      <td>1</td>\n",
       "      <td>0</td>\n",
       "      <td>1</td>\n",
       "      <td>0</td>\n",
       "      <td>0</td>\n",
       "      <td>1</td>\n",
       "      <td>0</td>\n",
       "      <td>0</td>\n",
       "    </tr>\n",
       "    <tr>\n",
       "      <th>2</th>\n",
       "      <td>2</td>\n",
       "      <td>3</td>\n",
       "      <td>4</td>\n",
       "      <td>4</td>\n",
       "      <td>10</td>\n",
       "      <td>3</td>\n",
       "      <td>2</td>\n",
       "      <td>2</td>\n",
       "      <td>4</td>\n",
       "      <td>5</td>\n",
       "      <td>...</td>\n",
       "      <td>5-8</td>\n",
       "      <td>0</td>\n",
       "      <td>1</td>\n",
       "      <td>0</td>\n",
       "      <td>1</td>\n",
       "      <td>0</td>\n",
       "      <td>0</td>\n",
       "      <td>1</td>\n",
       "      <td>0</td>\n",
       "      <td>0</td>\n",
       "    </tr>\n",
       "    <tr>\n",
       "      <th>3</th>\n",
       "      <td>3</td>\n",
       "      <td>3</td>\n",
       "      <td>3</td>\n",
       "      <td>10</td>\n",
       "      <td>7</td>\n",
       "      <td>2</td>\n",
       "      <td>5</td>\n",
       "      <td>2</td>\n",
       "      <td>5</td>\n",
       "      <td>0</td>\n",
       "      <td>...</td>\n",
       "      <td>0-4</td>\n",
       "      <td>0</td>\n",
       "      <td>1</td>\n",
       "      <td>0</td>\n",
       "      <td>1</td>\n",
       "      <td>0</td>\n",
       "      <td>0</td>\n",
       "      <td>0</td>\n",
       "      <td>1</td>\n",
       "      <td>0</td>\n",
       "    </tr>\n",
       "    <tr>\n",
       "      <th>4</th>\n",
       "      <td>5</td>\n",
       "      <td>1</td>\n",
       "      <td>3</td>\n",
       "      <td>10</td>\n",
       "      <td>4</td>\n",
       "      <td>2</td>\n",
       "      <td>4</td>\n",
       "      <td>2</td>\n",
       "      <td>5</td>\n",
       "      <td>0</td>\n",
       "      <td>...</td>\n",
       "      <td>5-8</td>\n",
       "      <td>0</td>\n",
       "      <td>1</td>\n",
       "      <td>0</td>\n",
       "      <td>1</td>\n",
       "      <td>0</td>\n",
       "      <td>0</td>\n",
       "      <td>0</td>\n",
       "      <td>1</td>\n",
       "      <td>0</td>\n",
       "    </tr>\n",
       "    <tr>\n",
       "      <th>...</th>\n",
       "      <td>...</td>\n",
       "      <td>...</td>\n",
       "      <td>...</td>\n",
       "      <td>...</td>\n",
       "      <td>...</td>\n",
       "      <td>...</td>\n",
       "      <td>...</td>\n",
       "      <td>...</td>\n",
       "      <td>...</td>\n",
       "      <td>...</td>\n",
       "      <td>...</td>\n",
       "      <td>...</td>\n",
       "      <td>...</td>\n",
       "      <td>...</td>\n",
       "      <td>...</td>\n",
       "      <td>...</td>\n",
       "      <td>...</td>\n",
       "      <td>...</td>\n",
       "      <td>...</td>\n",
       "      <td>...</td>\n",
       "      <td>...</td>\n",
       "    </tr>\n",
       "    <tr>\n",
       "      <th>15967</th>\n",
       "      <td>3</td>\n",
       "      <td>3</td>\n",
       "      <td>4</td>\n",
       "      <td>0</td>\n",
       "      <td>10</td>\n",
       "      <td>0</td>\n",
       "      <td>4</td>\n",
       "      <td>2</td>\n",
       "      <td>10</td>\n",
       "      <td>7</td>\n",
       "      <td>...</td>\n",
       "      <td>5-8</td>\n",
       "      <td>1</td>\n",
       "      <td>0</td>\n",
       "      <td>0</td>\n",
       "      <td>1</td>\n",
       "      <td>0</td>\n",
       "      <td>0</td>\n",
       "      <td>0</td>\n",
       "      <td>1</td>\n",
       "      <td>0</td>\n",
       "    </tr>\n",
       "    <tr>\n",
       "      <th>15968</th>\n",
       "      <td>3</td>\n",
       "      <td>3</td>\n",
       "      <td>8</td>\n",
       "      <td>7</td>\n",
       "      <td>4</td>\n",
       "      <td>6</td>\n",
       "      <td>3</td>\n",
       "      <td>1</td>\n",
       "      <td>6</td>\n",
       "      <td>5</td>\n",
       "      <td>...</td>\n",
       "      <td>5-8</td>\n",
       "      <td>0</td>\n",
       "      <td>1</td>\n",
       "      <td>0</td>\n",
       "      <td>1</td>\n",
       "      <td>0</td>\n",
       "      <td>1</td>\n",
       "      <td>0</td>\n",
       "      <td>0</td>\n",
       "      <td>0</td>\n",
       "    </tr>\n",
       "    <tr>\n",
       "      <th>15969</th>\n",
       "      <td>4</td>\n",
       "      <td>3</td>\n",
       "      <td>10</td>\n",
       "      <td>10</td>\n",
       "      <td>8</td>\n",
       "      <td>6</td>\n",
       "      <td>5</td>\n",
       "      <td>1</td>\n",
       "      <td>5</td>\n",
       "      <td>2</td>\n",
       "      <td>...</td>\n",
       "      <td>5-8</td>\n",
       "      <td>0</td>\n",
       "      <td>1</td>\n",
       "      <td>0</td>\n",
       "      <td>0</td>\n",
       "      <td>1</td>\n",
       "      <td>1</td>\n",
       "      <td>0</td>\n",
       "      <td>0</td>\n",
       "      <td>0</td>\n",
       "    </tr>\n",
       "    <tr>\n",
       "      <th>15970</th>\n",
       "      <td>1</td>\n",
       "      <td>1</td>\n",
       "      <td>8</td>\n",
       "      <td>2</td>\n",
       "      <td>7</td>\n",
       "      <td>3</td>\n",
       "      <td>2</td>\n",
       "      <td>1</td>\n",
       "      <td>1</td>\n",
       "      <td>5</td>\n",
       "      <td>...</td>\n",
       "      <td>5-8</td>\n",
       "      <td>0</td>\n",
       "      <td>1</td>\n",
       "      <td>0</td>\n",
       "      <td>1</td>\n",
       "      <td>0</td>\n",
       "      <td>1</td>\n",
       "      <td>0</td>\n",
       "      <td>0</td>\n",
       "      <td>0</td>\n",
       "    </tr>\n",
       "    <tr>\n",
       "      <th>15971</th>\n",
       "      <td>5</td>\n",
       "      <td>4</td>\n",
       "      <td>2</td>\n",
       "      <td>10</td>\n",
       "      <td>10</td>\n",
       "      <td>5</td>\n",
       "      <td>1</td>\n",
       "      <td>2</td>\n",
       "      <td>1</td>\n",
       "      <td>5</td>\n",
       "      <td>...</td>\n",
       "      <td>5-8</td>\n",
       "      <td>0</td>\n",
       "      <td>1</td>\n",
       "      <td>0</td>\n",
       "      <td>1</td>\n",
       "      <td>0</td>\n",
       "      <td>1</td>\n",
       "      <td>0</td>\n",
       "      <td>0</td>\n",
       "      <td>0</td>\n",
       "    </tr>\n",
       "  </tbody>\n",
       "</table>\n",
       "<p>15971 rows × 29 columns</p>\n",
       "</div>"
      ],
      "text/plain": [
       "       fruit_veg  stress  core_circle  support  social  achievement  donation  \\\n",
       "0              3       2            5        0       5            2         0   \n",
       "1              2       3            3        8      10            5         2   \n",
       "2              2       3            4        4      10            3         2   \n",
       "3              3       3            3       10       7            2         5   \n",
       "4              5       1            3       10       4            2         4   \n",
       "...          ...     ...          ...      ...     ...          ...       ...   \n",
       "15967          3       3            4        0      10            0         4   \n",
       "15968          3       3            8        7       4            6         3   \n",
       "15969          4       3           10       10       8            6         5   \n",
       "15970          1       1            8        2       7            3         2   \n",
       "15971          5       4            2       10      10            5         1   \n",
       "\n",
       "       bmi  steps  vision  ...  sleep_bins  low_ach  avg_ach  high_ach  \\\n",
       "0        1      5       0  ...         5-8        0        1         0   \n",
       "1        2      5       5  ...         5-8        0        1         0   \n",
       "2        2      4       5  ...         5-8        0        1         0   \n",
       "3        2      5       0  ...         0-4        0        1         0   \n",
       "4        2      5       0  ...         5-8        0        1         0   \n",
       "...    ...    ...     ...  ...         ...      ...      ...       ...   \n",
       "15967    2     10       7  ...         5-8        1        0         0   \n",
       "15968    1      6       5  ...         5-8        0        1         0   \n",
       "15969    1      5       2  ...         5-8        0        1         0   \n",
       "15970    1      1       5  ...         5-8        0        1         0   \n",
       "15971    2      1       5  ...         5-8        0        1         0   \n",
       "\n",
       "       female male 21 to 35  36 to 50 51 or more Less than 20  \n",
       "0           1    0        0         1          0            0  \n",
       "1           1    0        0         1          0            0  \n",
       "2           1    0        0         1          0            0  \n",
       "3           1    0        0         0          1            0  \n",
       "4           1    0        0         0          1            0  \n",
       "...       ...  ...      ...       ...        ...          ...  \n",
       "15967       1    0        0         0          1            0  \n",
       "15968       1    0        1         0          0            0  \n",
       "15969       0    1        1         0          0            0  \n",
       "15970       1    0        1         0          0            0  \n",
       "15971       1    0        1         0          0            0  \n",
       "\n",
       "[15971 rows x 29 columns]"
      ]
     },
     "execution_count": 29,
     "metadata": {},
     "output_type": "execute_result"
    }
   ],
   "source": [
    "df4 = pd.concat([df3, age_dummies], axis=1)\n",
    "df4"
   ]
  },
  {
   "cell_type": "code",
   "execution_count": null,
   "metadata": {},
   "outputs": [],
   "source": []
  },
  {
   "cell_type": "code",
   "execution_count": 30,
   "metadata": {},
   "outputs": [
    {
     "data": {
      "text/plain": [
       "1    9858\n",
       "0    6113\n",
       "Name: female, dtype: int64"
      ]
     },
     "execution_count": 30,
     "metadata": {},
     "output_type": "execute_result"
    }
   ],
   "source": [
    "df3.female.value_counts()"
   ]
  },
  {
   "cell_type": "code",
   "execution_count": 31,
   "metadata": {},
   "outputs": [
    {
     "data": {
      "text/plain": [
       "avg_ach     10971\n",
       "low_ach      2897\n",
       "high_ach     2103\n",
       "Name: ach_level, dtype: int64"
      ]
     },
     "execution_count": 31,
     "metadata": {},
     "output_type": "execute_result"
    }
   ],
   "source": [
    "df3.ach_level.value_counts()"
   ]
  },
  {
   "cell_type": "code",
   "execution_count": 32,
   "metadata": {},
   "outputs": [
    {
     "data": {
      "text/plain": [
       "Index(['fruit_veg', 'stress', 'core_circle', 'support', 'social',\n",
       "       'achievement', 'donation', 'bmi', 'steps', 'vision', 'sleep_hrs',\n",
       "       'shouts', 'awards', 'passion', 'meditation', 'age_range', 'gender',\n",
       "       'balance', 'ach_level', 'sleep_bins'],\n",
       "      dtype='object')"
      ]
     },
     "execution_count": 32,
     "metadata": {},
     "output_type": "execute_result"
    }
   ],
   "source": [
    "df.columns"
   ]
  },
  {
   "cell_type": "code",
   "execution_count": 33,
   "metadata": {},
   "outputs": [
    {
     "data": {
      "text/plain": [
       "Index(['fruit_veg', 'stress', 'core_circle', 'support', 'social',\n",
       "       'achievement', 'donation', 'bmi', 'steps', 'vision', 'sleep_hrs',\n",
       "       'shouts', 'awards', 'passion', 'meditation', 'age_range', 'gender',\n",
       "       'balance', 'ach_level', 'sleep_bins'],\n",
       "      dtype='object')"
      ]
     },
     "execution_count": 33,
     "metadata": {},
     "output_type": "execute_result"
    }
   ],
   "source": [
    "df.drop(columns = ['achievement'])\n",
    "df.columns"
   ]
  },
  {
   "cell_type": "code",
   "execution_count": 34,
   "metadata": {
    "tags": []
   },
   "outputs": [
    {
     "data": {
      "image/png": "[encoded data removed]",
      "text/plain": [
       "<Figure size 720x720 with 1 Axes>"
      ]
     },
     "metadata": {
      "needs_background": "light"
     },
     "output_type": "display_data"
    },
    {
     "name": "stdout",
     "output_type": "stream",
     "text": [
      "         ach_level  Count  Percent\n",
      "avg_ach    avg_ach  10971    68.69\n",
      "low_ach    low_ach   2897    18.14\n",
      "high_ach  high_ach   2103    13.17\n",
      "_________________________________________________________________\n"
     ]
    }
   ],
   "source": [
    "cat_vars = ['ach_level']\n",
    "quant_vars = []\n",
    "\n",
    "def explore_univariate(df, cat_vars, quant_vars):\n",
    "    for var in cat_vars:\n",
    "        _explore_univariate_categorical(df, var)\n",
    "        print('_________________________________________________________________')\n",
    "    for col in quant_vars:\n",
    "        p, descriptive_stats = _explore_univariate_quant(df, col)\n",
    "        plt.show(p)\n",
    "        print(descriptive_stats)\n",
    "\n",
    "def _explore_univariate_categorical(df, cat_var):\n",
    "    '''\n",
    "    takes in a dataframe and a categorical variable and returns\n",
    "    a frequency table and barplot of the frequencies. \n",
    "    '''\n",
    "    frequency_table = _freq_table(df, cat_var)\n",
    "    plt.figure(figsize=(10,10))\n",
    "    sns.barplot(x=cat_var, y='Count', data=frequency_table, color='lightseagreen')\n",
    "    plt.title('Achievement Levels of Survey Respondents')\n",
    "    plt.xlabel('Achievement Levels')\n",
    "    plt.show()\n",
    "    print(frequency_table)\n",
    "\n",
    "    \n",
    "def _freq_table(df, cat_var):\n",
    "    '''\n",
    "    for a given categorical variable, compute the frequency count and percent split\n",
    "    and return a dataframe of those values along with the different classes. \n",
    "    '''\n",
    "    class_labels = list(df[cat_var].unique())\n",
    "\n",
    "    frequency_table = (\n",
    "        pd.DataFrame({cat_var: class_labels,\n",
    "                      'Count': df[cat_var].value_counts(normalize=False), \n",
    "                      'Percent': round(df[cat_var].value_counts(normalize=True)*100,2)}\n",
    "                    )\n",
    "    )\n",
    "    return frequency_table\n",
    "\n",
    "explore_univariate(df, cat_vars, quant_vars)\n"
   ]
  },
  {
   "cell_type": "code",
   "execution_count": 35,
   "metadata": {},
   "outputs": [
    {
     "name": "stdout",
     "output_type": "stream",
     "text": [
      "<class 'pandas.core.frame.DataFrame'>\n",
      "Int64Index: 15971 entries, 0 to 15971\n",
      "Data columns (total 20 columns):\n",
      " #   Column       Non-Null Count  Dtype   \n",
      "---  ------       --------------  -----   \n",
      " 0   fruit_veg    15971 non-null  int64   \n",
      " 1   stress       15971 non-null  int64   \n",
      " 2   core_circle  15971 non-null  int64   \n",
      " 3   support      15971 non-null  int64   \n",
      " 4   social       15971 non-null  int64   \n",
      " 5   achievement  15971 non-null  int64   \n",
      " 6   donation     15971 non-null  int64   \n",
      " 7   bmi          15971 non-null  int64   \n",
      " 8   steps        15971 non-null  int64   \n",
      " 9   vision       15971 non-null  int64   \n",
      " 10  sleep_hrs    15971 non-null  int64   \n",
      " 11  shouts       15971 non-null  int64   \n",
      " 12  awards       15971 non-null  int64   \n",
      " 13  passion      15971 non-null  int64   \n",
      " 14  meditation   15971 non-null  int64   \n",
      " 15  age_range    15971 non-null  object  \n",
      " 16  gender       15971 non-null  object  \n",
      " 17  balance      15971 non-null  float64 \n",
      " 18  ach_level    15971 non-null  category\n",
      " 19  sleep_bins   15971 non-null  category\n",
      "dtypes: category(2), float64(1), int64(15), object(2)\n",
      "memory usage: 2.3+ MB\n"
     ]
    }
   ],
   "source": [
    "df.info()"
   ]
  },
  {
   "cell_type": "markdown",
   "metadata": {},
   "source": [
    "<a id='SD'></a>\n",
    "#### ```Split Data```"
   ]
  },
  {
   "cell_type": "code",
   "execution_count": 36,
   "metadata": {},
   "outputs": [
    {
     "data": {
      "text/plain": [
       "((8943, 29), (3833, 29), (3195, 29))"
      ]
     },
     "execution_count": 36,
     "metadata": {},
     "output_type": "execute_result"
    }
   ],
   "source": [
    "#splitting data for exploration\n",
    "train, validate, test = prepare.train_validate_test_split(df4, 'high_ach', seed=123)\n",
    "\n",
    "train.shape, validate.shape, test.shape"
   ]
  },
  {
   "cell_type": "code",
   "execution_count": 37,
   "metadata": {},
   "outputs": [
    {
     "data": {
      "text/plain": [
       "Index(['fruit_veg', 'stress', 'core_circle', 'support', 'social',\n",
       "       'achievement', 'donation', 'bmi', 'steps', 'vision', 'sleep_hrs',\n",
       "       'shouts', 'awards', 'passion', 'meditation', 'age_range', 'gender',\n",
       "       'balance', 'ach_level', 'sleep_bins', 'low_ach', 'avg_ach', 'high_ach',\n",
       "       'female', 'male', '21 to 35', '36 to 50', '51 or more', 'Less than 20'],\n",
       "      dtype='object')"
      ]
     },
     "execution_count": 37,
     "metadata": {},
     "output_type": "execute_result"
    }
   ],
   "source": [
    "train.columns"
   ]
  },
  {
   "cell_type": "code",
   "execution_count": 38,
   "metadata": {},
   "outputs": [
    {
     "data": {
      "text/plain": [
       "3    2459\n",
       "2    1904\n",
       "4    1637\n",
       "1    1410\n",
       "5    1144\n",
       "0     389\n",
       "Name: stress, dtype: int64"
      ]
     },
     "execution_count": 38,
     "metadata": {},
     "output_type": "execute_result"
    }
   ],
   "source": [
    "train.stress.value_counts()"
   ]
  },
  {
   "cell_type": "code",
   "execution_count": 39,
   "metadata": {},
   "outputs": [],
   "source": [
    "train = pd.DataFrame(train)\n",
    "validate = pd.DataFrame(validate)\n",
    "test = pd.DataFrame(test)"
   ]
  },
  {
   "cell_type": "markdown",
   "metadata": {},
   "source": [
    "<a id='EX'></a>\n",
    "## ```Explore Data```\n",
    "[back](#back) | [next](#HY)"
   ]
  },
  {
   "cell_type": "code",
   "execution_count": 40,
   "metadata": {},
   "outputs": [],
   "source": [
    "# #sns.pairplot(train, hue = 'stress', edgecolor = 'darkblue', palette = 'Accent')\n",
    "\n",
    "# sns.pairplot(data=train, corner=True, hue='ach_level', palette = 'Accent')\n",
    "\n",
    "# plt.show()"
   ]
  },
  {
   "cell_type": "code",
   "execution_count": 41,
   "metadata": {},
   "outputs": [
    {
     "data": {
      "image/png": "[encoded data removed]",
      "text/plain": [
       "<Figure size 144x144 with 1 Axes>"
      ]
     },
     "metadata": {
      "needs_background": "light"
     },
     "output_type": "display_data"
    },
    {
     "name": "stdout",
     "output_type": "stream",
     "text": [
      "    achievement  Count  Percent\n",
      "2             6   1471    16.45\n",
      "3             0   1382    15.45\n",
      "5             2   1133    12.67\n",
      "4             1   1057    11.82\n",
      "1             5    918    10.27\n",
      "0            10    721     8.06\n",
      "10            4    653     7.30\n",
      "6             3    629     7.03\n",
      "7             7    455     5.09\n",
      "8             8    387     4.33\n",
      "9             9    137     1.53\n",
      "_________________________________________________________________\n"
     ]
    },
    {
     "data": {
      "image/png": "[encoded data removed]",
      "text/plain": [
       "<Figure size 144x144 with 1 Axes>"
      ]
     },
     "metadata": {
      "needs_background": "light"
     },
     "output_type": "display_data"
    },
    {
     "name": "stdout",
     "output_type": "stream",
     "text": [
      "   bmi  Count  Percent\n",
      "1    1   5317    59.45\n",
      "2    2   3626    40.55\n",
      "_________________________________________________________________\n"
     ]
    },
    {
     "data": {
      "image/png": "[encoded data removed]",
      "text/plain": [
       "<Figure size 144x144 with 1 Axes>"
      ]
     },
     "metadata": {
      "needs_background": "light"
     },
     "output_type": "display_data"
    },
    {
     "name": "stdout",
     "output_type": "stream",
     "text": [
      "                 age_range  Count  Percent\n",
      "21 to 35          21 to 35   3394    37.95\n",
      "36 to 50          36 to 50   2623    29.33\n",
      "51 or more      51 or more   1902    21.27\n",
      "Less than 20  Less than 20   1024    11.45\n",
      "_________________________________________________________________\n"
     ]
    },
    {
     "data": {
      "image/png": "[encoded data removed]",
      "text/plain": [
       "<Figure size 144x144 with 1 Axes>"
      ]
     },
     "metadata": {
      "needs_background": "light"
     },
     "output_type": "display_data"
    },
    {
     "name": "stdout",
     "output_type": "stream",
     "text": [
      "        gender  Count  Percent\n",
      "Female  Female   5561    62.18\n",
      "Male      Male   3382    37.82\n",
      "_________________________________________________________________\n"
     ]
    },
    {
     "data": {
      "image/png": "[encoded data removed]",
      "text/plain": [
       "<Figure size 576x144 with 2 Axes>"
      ]
     },
     "metadata": {
      "needs_background": "light"
     },
     "output_type": "display_data"
    },
    {
     "name": "stdout",
     "output_type": "stream",
     "text": [
      "count    8943.000000\n",
      "mean        2.780163\n",
      "std         1.371736\n",
      "min         0.000000\n",
      "25%         2.000000\n",
      "50%         3.000000\n",
      "75%         4.000000\n",
      "max         5.000000\n",
      "Name: stress, dtype: float64\n"
     ]
    },
    {
     "data": {
      "image/png": "[encoded data removed]",
      "text/plain": [
       "<Figure size 576x144 with 2 Axes>"
      ]
     },
     "metadata": {
      "needs_background": "light"
     },
     "output_type": "display_data"
    },
    {
     "name": "stdout",
     "output_type": "stream",
     "text": [
      "count    8943.000000\n",
      "mean        5.528234\n",
      "std         2.843346\n",
      "min         0.000000\n",
      "25%         3.000000\n",
      "50%         5.000000\n",
      "75%         8.000000\n",
      "max        10.000000\n",
      "Name: core_circle, dtype: float64\n"
     ]
    },
    {
     "data": {
      "image/png": "[encoded data removed]",
      "text/plain": [
       "<Figure size 576x144 with 2 Axes>"
      ]
     },
     "metadata": {
      "needs_background": "light"
     },
     "output_type": "display_data"
    },
    {
     "name": "stdout",
     "output_type": "stream",
     "text": [
      "count    8943.000000\n",
      "mean        5.578553\n",
      "std         3.241122\n",
      "min         0.000000\n",
      "25%         3.000000\n",
      "50%         5.000000\n",
      "75%         9.000000\n",
      "max        10.000000\n",
      "Name: support, dtype: float64\n"
     ]
    },
    {
     "data": {
      "image/png": "[encoded data removed]",
      "text/plain": [
       "<Figure size 576x144 with 2 Axes>"
      ]
     },
     "metadata": {
      "needs_background": "light"
     },
     "output_type": "display_data"
    },
    {
     "name": "stdout",
     "output_type": "stream",
     "text": [
      "count    8943.00000\n",
      "mean        2.70927\n",
      "std         1.85248\n",
      "min         0.00000\n",
      "25%         1.00000\n",
      "50%         3.00000\n",
      "75%         5.00000\n",
      "max         5.00000\n",
      "Name: donation, dtype: float64\n"
     ]
    },
    {
     "data": {
      "image/png": "[encoded data removed]",
      "text/plain": [
       "<Figure size 576x144 with 2 Axes>"
      ]
     },
     "metadata": {
      "needs_background": "light"
     },
     "output_type": "display_data"
    },
    {
     "name": "stdout",
     "output_type": "stream",
     "text": [
      "count    8943.000000\n",
      "mean        5.689142\n",
      "std         2.891032\n",
      "min         1.000000\n",
      "25%         3.000000\n",
      "50%         6.000000\n",
      "75%         8.000000\n",
      "max        10.000000\n",
      "Name: steps, dtype: float64\n"
     ]
    },
    {
     "data": {
      "image/png": "[encoded data removed]",
      "text/plain": [
       "<Figure size 576x144 with 2 Axes>"
      ]
     },
     "metadata": {
      "needs_background": "light"
     },
     "output_type": "display_data"
    },
    {
     "name": "stdout",
     "output_type": "stream",
     "text": [
      "count    8943.000000\n",
      "mean        7.046405\n",
      "std         1.193893\n",
      "min         1.000000\n",
      "25%         6.000000\n",
      "50%         7.000000\n",
      "75%         8.000000\n",
      "max        10.000000\n",
      "Name: sleep_hrs, dtype: float64\n"
     ]
    },
    {
     "data": {
      "image/png": "[encoded data removed]",
      "text/plain": [
       "<Figure size 576x144 with 2 Axes>"
      ]
     },
     "metadata": {
      "needs_background": "light"
     },
     "output_type": "display_data"
    },
    {
     "name": "stdout",
     "output_type": "stream",
     "text": [
      "count    8943.000000\n",
      "mean        2.942972\n",
      "std         2.679998\n",
      "min         0.000000\n",
      "25%         1.000000\n",
      "50%         2.000000\n",
      "75%         4.000000\n",
      "max        10.000000\n",
      "Name: shouts, dtype: float64\n"
     ]
    },
    {
     "data": {
      "image/png": "[encoded data removed]",
      "text/plain": [
       "<Figure size 576x144 with 2 Axes>"
      ]
     },
     "metadata": {
      "needs_background": "light"
     },
     "output_type": "display_data"
    },
    {
     "name": "stdout",
     "output_type": "stream",
     "text": [
      "count    8943.000000\n",
      "mean        5.734094\n",
      "std         3.102976\n",
      "min         0.000000\n",
      "25%         3.000000\n",
      "50%         5.000000\n",
      "75%         9.000000\n",
      "max        10.000000\n",
      "Name: awards, dtype: float64\n"
     ]
    },
    {
     "data": {
      "image/png": "[encoded data removed]",
      "text/plain": [
       "<Figure size 576x144 with 2 Axes>"
      ]
     },
     "metadata": {
      "needs_background": "light"
     },
     "output_type": "display_data"
    },
    {
     "name": "stdout",
     "output_type": "stream",
     "text": [
      "count    8943.000000\n",
      "mean        3.298110\n",
      "std         2.730643\n",
      "min         0.000000\n",
      "25%         1.000000\n",
      "50%         3.000000\n",
      "75%         5.000000\n",
      "max        10.000000\n",
      "Name: passion, dtype: float64\n"
     ]
    },
    {
     "data": {
      "image/png": "[encoded data removed]",
      "text/plain": [
       "<Figure size 576x144 with 2 Axes>"
      ]
     },
     "metadata": {
      "needs_background": "light"
     },
     "output_type": "display_data"
    },
    {
     "name": "stdout",
     "output_type": "stream",
     "text": [
      "count    8943.000000\n",
      "mean        6.257632\n",
      "std         3.020070\n",
      "min         0.000000\n",
      "25%         4.000000\n",
      "50%         7.000000\n",
      "75%        10.000000\n",
      "max        10.000000\n",
      "Name: meditation, dtype: float64\n"
     ]
    }
   ],
   "source": [
    "cat_vars = [ 'achievement','bmi', 'age_range',  'gender']\n",
    "quant_vars = ['stress', 'core_circle', 'support', 'donation', \n",
    "                    'steps', 'sleep_hrs', 'shouts', 'awards', 'passion', 'meditation' ]\n",
    "\n",
    "\n",
    "explore.explore_univariate(train, cat_vars, quant_vars)\n",
    "\n"
   ]
  },
  {
   "cell_type": "code",
   "execution_count": 42,
   "metadata": {},
   "outputs": [
    {
     "data": {
      "text/plain": [
       "count    8943.000000\n",
       "mean        2.780163\n",
       "std         1.371736\n",
       "min         0.000000\n",
       "25%         2.000000\n",
       "50%         3.000000\n",
       "75%         4.000000\n",
       "max         5.000000\n",
       "Name: stress, dtype: float64"
      ]
     },
     "execution_count": 42,
     "metadata": {},
     "output_type": "execute_result"
    }
   ],
   "source": [
    "train.stress.describe()"
   ]
  },
  {
   "cell_type": "code",
   "execution_count": 43,
   "metadata": {},
   "outputs": [
    {
     "data": {
      "text/plain": [
       "Index(['fruit_veg', 'stress', 'core_circle', 'support', 'social',\n",
       "       'achievement', 'donation', 'bmi', 'steps', 'vision', 'sleep_hrs',\n",
       "       'shouts', 'awards', 'passion', 'meditation', 'age_range', 'gender',\n",
       "       'balance', 'ach_level', 'sleep_bins', 'low_ach', 'avg_ach', 'high_ach',\n",
       "       'female', 'male', '21 to 35', '36 to 50', '51 or more', 'Less than 20'],\n",
       "      dtype='object')"
      ]
     },
     "execution_count": 43,
     "metadata": {},
     "output_type": "execute_result"
    }
   ],
   "source": [
    "train.columns\n"
   ]
  },
  {
   "cell_type": "code",
   "execution_count": 44,
   "metadata": {},
   "outputs": [
    {
     "name": "stdout",
     "output_type": "stream",
     "text": [
      "<class 'pandas.core.frame.DataFrame'>\n",
      "Int64Index: 8943 entries, 10725 to 10092\n",
      "Data columns (total 29 columns):\n",
      " #   Column        Non-Null Count  Dtype   \n",
      "---  ------        --------------  -----   \n",
      " 0   fruit_veg     8943 non-null   int64   \n",
      " 1   stress        8943 non-null   int64   \n",
      " 2   core_circle   8943 non-null   int64   \n",
      " 3   support       8943 non-null   int64   \n",
      " 4   social        8943 non-null   int64   \n",
      " 5   achievement   8943 non-null   int64   \n",
      " 6   donation      8943 non-null   int64   \n",
      " 7   bmi           8943 non-null   int64   \n",
      " 8   steps         8943 non-null   int64   \n",
      " 9   vision        8943 non-null   int64   \n",
      " 10  sleep_hrs     8943 non-null   int64   \n",
      " 11  shouts        8943 non-null   int64   \n",
      " 12  awards        8943 non-null   int64   \n",
      " 13  passion       8943 non-null   int64   \n",
      " 14  meditation    8943 non-null   int64   \n",
      " 15  age_range     8943 non-null   object  \n",
      " 16  gender        8943 non-null   object  \n",
      " 17  balance       8943 non-null   float64 \n",
      " 18  ach_level     8943 non-null   category\n",
      " 19  sleep_bins    8943 non-null   category\n",
      " 20  low_ach       8943 non-null   uint8   \n",
      " 21  avg_ach       8943 non-null   uint8   \n",
      " 22  high_ach      8943 non-null   uint8   \n",
      " 23  female        8943 non-null   uint8   \n",
      " 24  male          8943 non-null   uint8   \n",
      " 25  21 to 35      8943 non-null   uint8   \n",
      " 26  36 to 50      8943 non-null   uint8   \n",
      " 27  51 or more    8943 non-null   uint8   \n",
      " 28  Less than 20  8943 non-null   uint8   \n",
      "dtypes: category(2), float64(1), int64(15), object(2), uint8(9)\n",
      "memory usage: 1.4+ MB\n"
     ]
    }
   ],
   "source": [
    "train.info()"
   ]
  },
  {
   "cell_type": "code",
   "execution_count": 45,
   "metadata": {},
   "outputs": [
    {
     "name": "stdout",
     "output_type": "stream",
     "text": [
      "<class 'pandas.core.frame.DataFrame'>\n",
      "Int64Index: 8943 entries, 10725 to 10092\n",
      "Data columns (total 29 columns):\n",
      " #   Column        Non-Null Count  Dtype   \n",
      "---  ------        --------------  -----   \n",
      " 0   fruit_veg     8943 non-null   int64   \n",
      " 1   stress        8943 non-null   int64   \n",
      " 2   core_circle   8943 non-null   int64   \n",
      " 3   support       8943 non-null   int64   \n",
      " 4   social        8943 non-null   int64   \n",
      " 5   achievement   8943 non-null   int64   \n",
      " 6   donation      8943 non-null   int64   \n",
      " 7   bmi           8943 non-null   int64   \n",
      " 8   steps         8943 non-null   int64   \n",
      " 9   vision        8943 non-null   int64   \n",
      " 10  sleep_hrs     8943 non-null   int64   \n",
      " 11  shouts        8943 non-null   int64   \n",
      " 12  awards        8943 non-null   int64   \n",
      " 13  passion       8943 non-null   int64   \n",
      " 14  meditation    8943 non-null   int64   \n",
      " 15  age_range     8943 non-null   object  \n",
      " 16  gender        8943 non-null   object  \n",
      " 17  balance       8943 non-null   float64 \n",
      " 18  ach_level     8943 non-null   category\n",
      " 19  sleep_bins    8943 non-null   category\n",
      " 20  low_ach       8943 non-null   int64   \n",
      " 21  avg_ach       8943 non-null   int64   \n",
      " 22  high_ach      8943 non-null   int64   \n",
      " 23  female        8943 non-null   int64   \n",
      " 24  male          8943 non-null   int64   \n",
      " 25  21 to 35      8943 non-null   uint8   \n",
      " 26  36 to 50      8943 non-null   uint8   \n",
      " 27  51 or more    8943 non-null   uint8   \n",
      " 28  Less than 20  8943 non-null   uint8   \n",
      "dtypes: category(2), float64(1), int64(20), object(2), uint8(4)\n",
      "memory usage: 1.7+ MB\n"
     ]
    }
   ],
   "source": [
    "train[\"low_ach\"] = train['low_ach'].astype('int64')\n",
    "train[\"avg_ach\"] = train['avg_ach'].astype('int64')\n",
    "train[\"high_ach\"] = train['high_ach'].astype('int64')\n",
    "train[\"female\"] = train['female'].astype('int64')\n",
    "train[\"male\"] = train['male'].astype('int64')\n",
    "\n",
    "train.info()"
   ]
  },
  {
   "cell_type": "code",
   "execution_count": 46,
   "metadata": {},
   "outputs": [
    {
     "data": {
      "text/plain": [
       "<AxesSubplot:xlabel='age_range', ylabel='Count'>"
      ]
     },
     "execution_count": 46,
     "metadata": {},
     "output_type": "execute_result"
    },
    {
     "data": {
      "image/png": "[encoded data removed]",
      "text/plain": [
       "<Figure size 1008x576 with 1 Axes>"
      ]
     },
     "metadata": {
      "needs_background": "light"
     },
     "output_type": "display_data"
    }
   ],
   "source": [
    "plt.figure(figsize=(14, 8))\n",
    "hue_order = ['low_ach', 'avg_ach', 'high_ach']\n",
    "sns.histplot(data=train, x=\"age_range\", hue = \"ach_level\", multiple=\"stack\")\n"
   ]
  },
  {
   "cell_type": "code",
   "execution_count": 47,
   "metadata": {},
   "outputs": [
    {
     "data": {
      "text/plain": [
       "Index(['fruit_veg', 'stress', 'core_circle', 'support', 'social',\n",
       "       'achievement', 'donation', 'bmi', 'steps', 'vision', 'sleep_hrs',\n",
       "       'shouts', 'awards', 'passion', 'meditation', 'age_range', 'gender',\n",
       "       'balance', 'ach_level', 'sleep_bins', 'low_ach', 'avg_ach', 'high_ach',\n",
       "       'female', 'male', '21 to 35', '36 to 50', '51 or more', 'Less than 20'],\n",
       "      dtype='object')"
      ]
     },
     "execution_count": 47,
     "metadata": {},
     "output_type": "execute_result"
    }
   ],
   "source": [
    "train.columns"
   ]
  },
  {
   "cell_type": "code",
   "execution_count": 48,
   "metadata": {},
   "outputs": [
    {
     "data": {
      "text/plain": [
       "<AxesSubplot:xlabel='stress', ylabel='balance'>"
      ]
     },
     "execution_count": 48,
     "metadata": {},
     "output_type": "execute_result"
    },
    {
     "data": {
      "image/png": "[encoded data removed]",
      "text/plain": [
       "<Figure size 432x288 with 1 Axes>"
      ]
     },
     "metadata": {
      "needs_background": "light"
     },
     "output_type": "display_data"
    }
   ],
   "source": [
    "sns.scatterplot(x='stress', y='balance',\n",
    "               data=train, hue='ach_level')"
   ]
  },
  {
   "cell_type": "code",
   "execution_count": 49,
   "metadata": {},
   "outputs": [
    {
     "data": {
      "image/png": "[encoded data removed]",
      "text/plain": [
       "<Figure size 1008x576 with 1 Axes>"
      ]
     },
     "metadata": {
      "needs_background": "light"
     },
     "output_type": "display_data"
    }
   ],
   "source": [
    "plt.figure(figsize=(14, 8))\n",
    "hue_order = ['low_ach', 'avg_ach', 'high_ach']\n",
    "sns.histplot(data=df, x=\"sleep_bins\", hue = \"ach_level\", multiple=\"stack\")\n",
    "\n",
    "plt.show()"
   ]
  },
  {
   "cell_type": "code",
   "execution_count": 50,
   "metadata": {},
   "outputs": [],
   "source": [
    "# plt.figure(figsize=(14, 8))\n",
    "# sns.histplot(data=df, x=\"high_ach\", hue = \"sleep_bins\", multiple=\"stack\")\n",
    "\n",
    "# plt.show()"
   ]
  },
  {
   "cell_type": "code",
   "execution_count": null,
   "metadata": {},
   "outputs": [],
   "source": []
  },
  {
   "cell_type": "code",
   "execution_count": null,
   "metadata": {},
   "outputs": [],
   "source": []
  },
  {
   "cell_type": "code",
   "execution_count": 51,
   "metadata": {},
   "outputs": [
    {
     "data": {
      "image/png": "[encoded data removed]",
      "text/plain": [
       "<Figure size 432.125x360 with 1 Axes>"
      ]
     },
     "metadata": {
      "needs_background": "light"
     },
     "output_type": "display_data"
    }
   ],
   "source": [
    "sns.factorplot(x = \"ach_level\", y = 'sleep_hrs', hue = \"gender\",data = df);\n",
    "plt.show()"
   ]
  },
  {
   "cell_type": "code",
   "execution_count": 52,
   "metadata": {},
   "outputs": [
    {
     "data": {
      "image/png": "[encoded data removed]",
      "text/plain": [
       "<Figure size 441x360 with 1 Axes>"
      ]
     },
     "metadata": {
      "needs_background": "light"
     },
     "output_type": "display_data"
    }
   ],
   "source": [
    "sns.factorplot(x = \"age_range\", y = 'sleep_hrs', hue = \"ach_level\",data = df);\n",
    "plt.show()"
   ]
  },
  {
   "cell_type": "code",
   "execution_count": 53,
   "metadata": {},
   "outputs": [
    {
     "data": {
      "image/png": "[encoded data removed]",
      "text/plain": [
       "<Figure size 441x360 with 1 Axes>"
      ]
     },
     "metadata": {
      "needs_background": "light"
     },
     "output_type": "display_data"
    }
   ],
   "source": [
    "sns.factorplot(x = \"age_range\", y = 'stress', hue = \"ach_level\",data = df);\n",
    "plt.show()"
   ]
  },
  {
   "cell_type": "code",
   "execution_count": 54,
   "metadata": {},
   "outputs": [
    {
     "data": {
      "image/png": "[encoded data removed]",
      "text/plain": [
       "<Figure size 441x360 with 1 Axes>"
      ]
     },
     "metadata": {
      "needs_background": "light"
     },
     "output_type": "display_data"
    }
   ],
   "source": [
    "sns.factorplot(x = \"age_range\", y = 'meditation', hue = \"ach_level\",data = df);\n",
    "plt.show()"
   ]
  },
  {
   "cell_type": "code",
   "execution_count": 55,
   "metadata": {},
   "outputs": [
    {
     "data": {
      "image/png": "[encoded data removed]",
      "text/plain": [
       "<Figure size 441x360 with 1 Axes>"
      ]
     },
     "metadata": {
      "needs_background": "light"
     },
     "output_type": "display_data"
    }
   ],
   "source": [
    "sns.factorplot(x = \"age_range\", y = 'donation', hue = \"ach_level\",data = df);\n",
    "plt.show()"
   ]
  },
  {
   "cell_type": "code",
   "execution_count": 56,
   "metadata": {},
   "outputs": [
    {
     "data": {
      "text/plain": [
       "Index(['fruit_veg', 'stress', 'core_circle', 'support', 'social',\n",
       "       'achievement', 'donation', 'bmi', 'steps', 'vision', 'sleep_hrs',\n",
       "       'shouts', 'awards', 'passion', 'meditation', 'age_range', 'gender',\n",
       "       'balance', 'ach_level', 'sleep_bins', 'low_ach', 'avg_ach', 'high_ach',\n",
       "       'female', 'male', '21 to 35', '36 to 50', '51 or more', 'Less than 20'],\n",
       "      dtype='object')"
      ]
     },
     "execution_count": 56,
     "metadata": {},
     "output_type": "execute_result"
    }
   ],
   "source": [
    "train.columns"
   ]
  },
  {
   "cell_type": "code",
   "execution_count": 57,
   "metadata": {},
   "outputs": [
    {
     "data": {
      "image/png": "[encoded data removed]",
      "text/plain": [
       "<Figure size 441x360 with 1 Axes>"
      ]
     },
     "metadata": {
      "needs_background": "light"
     },
     "output_type": "display_data"
    }
   ],
   "source": [
    "sns.factorplot(x = \"stress\", y = 'shouts', hue = \"ach_level\",data = df);\n",
    "plt.show()"
   ]
  },
  {
   "cell_type": "code",
   "execution_count": 58,
   "metadata": {},
   "outputs": [
    {
     "data": {
      "image/png": "[encoded data removed]",
      "text/plain": [
       "<Figure size 441x360 with 1 Axes>"
      ]
     },
     "metadata": {
      "needs_background": "light"
     },
     "output_type": "display_data"
    }
   ],
   "source": [
    "sns.factorplot(x = \"age_range\", y = 'social', hue = \"ach_level\",data = df);\n",
    "plt.show()"
   ]
  },
  {
   "cell_type": "code",
   "execution_count": 59,
   "metadata": {},
   "outputs": [
    {
     "data": {
      "image/png": "[encoded data removed]",
      "text/plain": [
       "<Figure size 441x360 with 1 Axes>"
      ]
     },
     "metadata": {
      "needs_background": "light"
     },
     "output_type": "display_data"
    }
   ],
   "source": [
    "sns.factorplot(x = \"bmi\", y = 'stress', hue = \"ach_level\",data = df);\n",
    "plt.show()"
   ]
  },
  {
   "cell_type": "code",
   "execution_count": 60,
   "metadata": {},
   "outputs": [
    {
     "data": {
      "image/png": "[encoded data removed]",
      "text/plain": [
       "<Figure size 441x360 with 1 Axes>"
      ]
     },
     "metadata": {
      "needs_background": "light"
     },
     "output_type": "display_data"
    }
   ],
   "source": [
    "sns.factorplot(x = \"age_range\", y = 'steps', hue = \"ach_level\",data = df);\n",
    "plt.show()"
   ]
  },
  {
   "cell_type": "code",
   "execution_count": 61,
   "metadata": {},
   "outputs": [],
   "source": [
    "# sns.catplot(x=\"sleep_bins\", y=\"stress\", hue=\"ach_level\", kind=\"swarm\", data=train)"
   ]
  },
  {
   "cell_type": "code",
   "execution_count": 62,
   "metadata": {},
   "outputs": [],
   "source": [
    "# sns.catplot(x=\"age_range\", y=\"stress\", hue=\"ach_level\", kind=\"swarm\", data=train)"
   ]
  },
  {
   "cell_type": "code",
   "execution_count": 63,
   "metadata": {},
   "outputs": [
    {
     "data": {
      "image/png": "[encoded data removed]",
      "text/plain": [
       "<Figure size 441x360 with 1 Axes>"
      ]
     },
     "metadata": {
      "needs_background": "light"
     },
     "output_type": "display_data"
    }
   ],
   "source": [
    "sns.factorplot(x = \"age_range\", y = 'core_circle', hue = \"ach_level\",data = train);\n",
    "plt.show()"
   ]
  },
  {
   "cell_type": "code",
   "execution_count": 64,
   "metadata": {},
   "outputs": [],
   "source": [
    "\n",
    "# target = [['high_ach']]\n",
    "# continuous_target = [['high_ach']]\n",
    "# cat_vars = [['female']]\n",
    "# # train[['bmi', 'female', 'male']]\n",
    "# quant_vars = [['stress', 'core_circle', 'support', 'social', 'donation',\n",
    "#        'steps', 'sleep_hrs', 'shouts', 'awards', 'passion', 'meditation']]\n",
    "\n",
    "# OLDexplore.explore_bivariate(train, target, cat_vars, quant_vars)\n"
   ]
  },
  {
   "cell_type": "code",
   "execution_count": 65,
   "metadata": {},
   "outputs": [
    {
     "data": {
      "image/png": "[encoded data removed]",
      "text/plain": [
       "<Figure size 1872x720 with 6 Axes>"
      ]
     },
     "metadata": {
      "needs_background": "light"
     },
     "output_type": "display_data"
    }
   ],
   "source": [
    "\n",
    "\n",
    "\n",
    "f,ax = plt.subplots(2,3,figsize=(26,10))\n",
    "f.suptitle('What Lifestyle Issues Affect Achievement?', fontsize=20)\n",
    "ax[0,0].set_title('Achievement by BMI and Gender')\n",
    "ax[0,1].set_title('Achievement by Stress and Gender')\n",
    "ax[0,2].set_title('Achievement by Age and Gender')\n",
    "ax[1,0].set_title('Achievement & Recognition')\n",
    "ax[1,1].set_title('Achievement & Level of Donated Time/Money')\n",
    "ax[1,2].set_title('Achievement & Meditation')\n",
    "\n",
    "ax[0,0].set_ylim([0, 10])\n",
    "sns.set(style=\"darkgrid\")\n",
    "sns.violinplot(x= 'bmi',y='achievement', palette='GnBu', hue = 'gender', data=train, ax = ax[0,0], \n",
    "                split = True)\n",
    "\n",
    "ax[0,1].set_ylim([0, 10])\n",
    "sns.set(style=\"darkgrid\")\n",
    "sns.violinplot(x= 'stress',y='achievement', palette='GnBu', hue = 'gender', data=train, ax = ax[0,1], \n",
    "                 split = True)\n",
    "ax[0,2].set_ylim([0, 10])\n",
    "sns.violinplot(x = 'age_range', y = 'achievement', hue = 'gender', palette='GnBu', data = train,\n",
    "               order=['Less than 20', '21 to 35', '36 to 50', '51 or more'], split = True, ax = ax[0,2])\n",
    "ax[1,0].set_ylim([0, 10])\n",
    "sns.violinplot(x = 'awards', y = 'achievement', hue = 'gender', palette='GnBu', data=train, ax = ax[1,0])\n",
    "ax[1,1].set_ylim([0, 10])\n",
    "sns.violinplot(x = 'donation', y = 'achievement',hue = 'gender',palette='GnBu', data=train, ax = ax[1,1])\n",
    "ax[1,2].set_ylim([0, 10])\n",
    "sns.violinplot(x = 'meditation', y = 'achievement', hue = 'gender', palette='GnBu', data=train, ax = ax[1,2])\n",
    "\n",
    "\n",
    "plt.show()\n"
   ]
  },
  {
   "cell_type": "code",
   "execution_count": 66,
   "metadata": {},
   "outputs": [
    {
     "data": {
      "text/plain": [
       "<seaborn.axisgrid.FacetGrid at 0x7fe3f6e3cbb0>"
      ]
     },
     "execution_count": 66,
     "metadata": {},
     "output_type": "execute_result"
    },
    {
     "data": {
      "image/png": "[encoded data removed]",
      "text/plain": [
       "<Figure size 648x360 with 3 Axes>"
      ]
     },
     "metadata": {},
     "output_type": "display_data"
    }
   ],
   "source": [
    "b = sns.catplot(x=\"meditation\", y=\"stress\", col=\"ach_level\",\n",
    "data=train, saturation=.5,kind=\"bar\", ci=None, aspect=.6)\n",
    "(b.set_axis_labels(\"\", \"Achievement Level\")\n",
    ".set_titles(\"{col_name} {col_var}\")\n",
    ".set(ylim=(0, 6))\n",
    ".despine(left=True))  \n"
   ]
  },
  {
   "cell_type": "code",
   "execution_count": 67,
   "metadata": {},
   "outputs": [],
   "source": [
    "# # ACHIEVEMENT LEVELS\n",
    "# f,ax = plt.subplots(2,3,figsize=(16,12))\n",
    "# ax[0,0].set_title('ACHIEVEMENT BY AGE GROUP')\n",
    "# ax[0,1].set_title('ACHIEVEMENT BY GENDER')\n",
    "# ax[0,2].set_title('ACHIEVEMENT BY AGE & GENDER')\n",
    "# ax[1,0].set_title('ACHIEVEMENT & STRESS')\n",
    "# ax[1,1].set_title('ACHIEVEMENT & WORK/LIFE BALANCE')\n",
    "# ax[1,2].set_title('ACHIEVEMENT & SUFFICIENT INCOME:2=sufficient,1=not')\n",
    "\n",
    "# ax[0,0].set_ylim([0, 10])\n",
    "# df3.plot(x= 'age_range',y='achievement', kind='bar', color=('darksalmon', 'green'), alpha=0.7, ax = ax[0,0])\n",
    "\n",
    "\n",
    "# sns.violinplot(x= 'gender',y='achievement', palette='coolwarm_r', data=df, ax = ax[0,1])\n",
    "# sns.violinplot(x = 'age_range', y = 'achievement', hue = 'gender', palette='coolwarm_r', data = df,\n",
    "#                order=['20 or less', '21 to 35', '36 to 50', '51 or more'], split = True, ax = ax[0,2])\n",
    "# sns.pointplot(x = 'stress', y = 'achievement',  data=df, ax = ax[1,0])\n",
    "# sns.pointplot(x = 'balance', y = 'achievement', data=df, ax = ax[1,1])\n",
    "# sns.pointplot(x = 'passion', y = 'achievement',  data=df, ax = ax[1,2])\n",
    "\n",
    "# f.suptitle('WHAT DRIVES OUR PERSONAL ACHIEVEMENT LEVELS?', fontsize=20)\n",
    "# plt.show()\n"
   ]
  },
  {
   "cell_type": "markdown",
   "metadata": {},
   "source": [
    "#### ```Hypotheses:```\n",
    "\n",
    "H${0}$: There is no relationship between daily stress levels and personal achievement.<br>\n",
    "H${a}$: There is a dependent relationship between daily stress levels and personal achievement.<br>\n",
    "\n",
    "H${0}$: There is no relationship between bmi, age and levels of personal achievement. <br>\n",
    "H${a}$: There is a dependnt relationship between bmi and levels of personal achievement. <br>\n"
   ]
  },
  {
   "cell_type": "code",
   "execution_count": 68,
   "metadata": {},
   "outputs": [],
   "source": [
    "#sns.heatmap(train,cmap=\"YlGnBu\", annot = True)"
   ]
  },
  {
   "cell_type": "markdown",
   "metadata": {},
   "source": [
    "### Chi<sup>2</sup> Test : Sleep / Achievement\n",
    "\n",
    "H<sub>0</sub>: There is no relationship between sleep and levels of personal achievement. <br>\n",
    "H<sub>a</sub>: There is a dependent relationship between sleep and levels of personal achievement. <br>"
   ]
  },
  {
   "cell_type": "code",
   "execution_count": 69,
   "metadata": {},
   "outputs": [
    {
     "data": {
      "text/plain": [
       "0.05"
      ]
     },
     "execution_count": 69,
     "metadata": {},
     "output_type": "execute_result"
    }
   ],
   "source": [
    "# ctab == observed values\n",
    "\n",
    "ctab = pd.crosstab(train.sleep_bins, train.ach_level)\n",
    "\n",
    "#set alpha\n",
    "confidence_level = .95\n",
    "α = round(1 - confidence_level,2)\n",
    "α"
   ]
  },
  {
   "cell_type": "code",
   "execution_count": 70,
   "metadata": {},
   "outputs": [
    {
     "name": "stdout",
     "output_type": "stream",
     "text": [
      "chi2 value = 57.72183713685227\n",
      "\n",
      "Confidence Level = 0.95 and alpha = 0.05\n",
      "\n",
      "p-value is 8.729019953582671e-12.\n",
      "\n",
      "degrees of freedom = 4\n",
      "\n",
      "I reject the null hypothesis and move forward with the alternative hypothesis.\n",
      "There appears to be a dependent relationship between sleep hours and achievement levels.\n"
     ]
    }
   ],
   "source": [
    "#expected == values we would expect to see if the variables are independent of each other.\n",
    "\n",
    "chi2, p, degf, expected = stats.chi2_contingency(ctab)\n",
    "\n",
    "print(f'chi2 value = {chi2}') \n",
    "print()\n",
    "print(f'Confidence Level = {confidence_level} and alpha = {α}')\n",
    "print()\n",
    "print(f'p-value is {p}.')\n",
    "print()\n",
    "print(f'degrees of freedom = {degf}')\n",
    "print()\n",
    "if p<α:\n",
    "    print('I reject the null hypothesis and move forward with the alternative hypothesis.')\n",
    "    print('There appears to be a dependent relationship between sleep hours and achievement levels.')\n",
    "else:\n",
    "    print('I fail to reject the null hypothesis. We cannot assume there is relationship between sleep and achievement levels.')"
   ]
  },
  {
   "cell_type": "markdown",
   "metadata": {},
   "source": [
    "### Chi<sup>2</sup> Test : BMI / Achievement\n",
    "\n",
    "H<sub>0</sub>: There is no relationship between bmi and levels of personal achievement. <br>\n",
    "H<sub>a</sub>: There is a dependent relationship between bmi and levels of personal achievement. <br>"
   ]
  },
  {
   "cell_type": "code",
   "execution_count": 71,
   "metadata": {},
   "outputs": [
    {
     "data": {
      "text/plain": [
       "0.05"
      ]
     },
     "execution_count": 71,
     "metadata": {},
     "output_type": "execute_result"
    }
   ],
   "source": [
    "# ctab == observed values\n",
    "\n",
    "ctab = pd.crosstab(train.bmi, train.ach_level)\n",
    "\n",
    "#set alpha\n",
    "confidence_level = .95\n",
    "α = round(1 - confidence_level,2)\n",
    "α"
   ]
  },
  {
   "cell_type": "code",
   "execution_count": 72,
   "metadata": {},
   "outputs": [
    {
     "name": "stdout",
     "output_type": "stream",
     "text": [
      "chi2 value = 7.582172675515568\n",
      "\n",
      "Confidence Level = 0.95 and alpha = 0.05\n",
      "\n",
      "p-value is 0.022571068723715143.\n",
      "\n",
      "degrees of freedom = 2\n",
      "\n",
      "I reject the null hypothesis and move forward with the alternative hypothesis.\n",
      "There appears to be a dependent relationship between BMI and achievement levels.\n"
     ]
    }
   ],
   "source": [
    "#expected == values we would expect to see if the variables are independent of each other.\n",
    "\n",
    "chi2, p, degf, expected = stats.chi2_contingency(ctab)\n",
    "\n",
    "print(f'chi2 value = {chi2}') \n",
    "print()\n",
    "print(f'Confidence Level = {confidence_level} and alpha = {α}')\n",
    "print()\n",
    "print(f'p-value is {p}.')\n",
    "print()\n",
    "print(f'degrees of freedom = {degf}')\n",
    "print()\n",
    "if p<α:\n",
    "    print('I reject the null hypothesis and move forward with the alternative hypothesis.')\n",
    "    print('There appears to be a dependent relationship between BMI and achievement levels.')\n",
    "else:\n",
    "    print('I fail to reject the null hypothesis. We cannot assume there is relationship between BMI and achievement levels.')"
   ]
  },
  {
   "cell_type": "markdown",
   "metadata": {},
   "source": [
    "### Pearson's Correlation Test : Stress / Achievement\n",
    "\n",
    "H<sub>0</sub>: There is no relationship between stress and levels of personal achievement. <br>\n",
    "H<sub>a</sub>: There is a dependent relationship between stress and levels of personal achievement. <br>"
   ]
  },
  {
   "cell_type": "code",
   "execution_count": 73,
   "metadata": {},
   "outputs": [
    {
     "data": {
      "text/plain": [
       "0.05"
      ]
     },
     "execution_count": 73,
     "metadata": {},
     "output_type": "execute_result"
    }
   ],
   "source": [
    "# ctab == observed values\n",
    "\n",
    "ctab = pd.crosstab(train.stress, train.ach_level)\n",
    "\n",
    "#set alpha\n",
    "confidence_level = .95\n",
    "α = round(1 - confidence_level,2)\n",
    "α"
   ]
  },
  {
   "cell_type": "code",
   "execution_count": 74,
   "metadata": {},
   "outputs": [
    {
     "name": "stdout",
     "output_type": "stream",
     "text": [
      "stat=-0.118, p=0.000\n",
      "I reject the null hypothesis.\n",
      "There appears to be a dependent relationship between stress and achievement levels.\n"
     ]
    }
   ],
   "source": [
    "# Example of the Pearson's Correlation test\n",
    "from scipy.stats import pearsonr\n",
    "stat, p = pearsonr(train.stress, train.achievement)\n",
    "print('stat=%.3f, p=%.3f' % (stat, p))\n",
    "\n",
    "if p<α:\n",
    "    print('I reject the null hypothesis.')\n",
    "    print('There appears to be a dependent relationship between stress and achievement levels.')\n",
    "else:\n",
    "    print('I fail to reject the null hypothesis. We cannot assume there is no relationship between stress and achievement levels.')"
   ]
  },
  {
   "cell_type": "code",
   "execution_count": 75,
   "metadata": {},
   "outputs": [
    {
     "data": {
      "text/plain": [
       "Index(['fruit_veg', 'stress', 'core_circle', 'support', 'social',\n",
       "       'achievement', 'donation', 'bmi', 'steps', 'vision', 'sleep_hrs',\n",
       "       'shouts', 'awards', 'passion', 'meditation', 'age_range', 'gender',\n",
       "       'balance', 'ach_level', 'sleep_bins', 'low_ach', 'avg_ach', 'high_ach',\n",
       "       'female', 'male', '21 to 35', '36 to 50', '51 or more', 'Less than 20'],\n",
       "      dtype='object')"
      ]
     },
     "execution_count": 75,
     "metadata": {},
     "output_type": "execute_result"
    }
   ],
   "source": [
    "train.columns"
   ]
  },
  {
   "cell_type": "code",
   "execution_count": 76,
   "metadata": {},
   "outputs": [
    {
     "data": {
      "text/plain": [
       "7     3133\n",
       "8     2399\n",
       "6     1924\n",
       "5      557\n",
       "9      551\n",
       "10     194\n",
       "4      138\n",
       "3       28\n",
       "2       10\n",
       "1        9\n",
       "Name: sleep_hrs, dtype: int64"
      ]
     },
     "execution_count": 76,
     "metadata": {},
     "output_type": "execute_result"
    }
   ],
   "source": [
    "train.sleep_hrs.value_counts()"
   ]
  },
  {
   "cell_type": "code",
   "execution_count": 77,
   "metadata": {},
   "outputs": [],
   "source": [
    "# I will drop any remaining categorical features I have left.\n",
    "\n",
    "X_train = train.drop(columns=['gender', 'age_range', 'sleep_bins', 'balance','ach_level', 'high_ach', 'low_ach', 'avg_ach', 'female', 'male', '21 to 35', '36 to 50', '51 or more',\n",
    "       'Less than 20','achievement'])\n",
    "y_train = train[['ach_level']]\n",
    "\n",
    "X_validate = validate.drop(columns=['gender', 'age_range', 'sleep_bins', 'balance','ach_level', 'high_ach', 'low_ach', 'avg_ach','female', 'male', '21 to 35', '36 to 50', '51 or more',\n",
    "       'Less than 20','achievement'])\n",
    "y_validate = validate[['ach_level']]\n",
    "\n",
    "X_test = test.drop(columns=['gender', 'age_range', 'sleep_bins', 'balance','ach_level', 'high_ach', 'low_ach', 'avg_ach','female', 'male', '21 to 35', '36 to 50', '51 or more',\n",
    "       'Less than 20','achievement'])\n",
    "y_test = test[['ach_level']]"
   ]
  },
  {
   "cell_type": "code",
   "execution_count": 78,
   "metadata": {},
   "outputs": [
    {
     "data": {
      "text/html": [
       "<div>\n",
       "<style scoped>\n",
       "    .dataframe tbody tr th:only-of-type {\n",
       "        vertical-align: middle;\n",
       "    }\n",
       "\n",
       "    .dataframe tbody tr th {\n",
       "        vertical-align: top;\n",
       "    }\n",
       "\n",
       "    .dataframe thead th {\n",
       "        text-align: right;\n",
       "    }\n",
       "</style>\n",
       "<table border=\"1\" class=\"dataframe\">\n",
       "  <thead>\n",
       "    <tr style=\"text-align: right;\">\n",
       "      <th></th>\n",
       "      <th>fruit_veg</th>\n",
       "      <th>stress</th>\n",
       "      <th>core_circle</th>\n",
       "      <th>support</th>\n",
       "      <th>social</th>\n",
       "      <th>donation</th>\n",
       "      <th>bmi</th>\n",
       "      <th>steps</th>\n",
       "      <th>vision</th>\n",
       "      <th>sleep_hrs</th>\n",
       "      <th>shouts</th>\n",
       "      <th>awards</th>\n",
       "      <th>passion</th>\n",
       "      <th>meditation</th>\n",
       "    </tr>\n",
       "  </thead>\n",
       "  <tbody>\n",
       "    <tr>\n",
       "      <th>10725</th>\n",
       "      <td>2</td>\n",
       "      <td>1</td>\n",
       "      <td>6</td>\n",
       "      <td>4</td>\n",
       "      <td>4</td>\n",
       "      <td>1</td>\n",
       "      <td>1</td>\n",
       "      <td>4</td>\n",
       "      <td>2</td>\n",
       "      <td>7</td>\n",
       "      <td>1</td>\n",
       "      <td>3</td>\n",
       "      <td>3</td>\n",
       "      <td>1</td>\n",
       "    </tr>\n",
       "    <tr>\n",
       "      <th>6319</th>\n",
       "      <td>3</td>\n",
       "      <td>3</td>\n",
       "      <td>2</td>\n",
       "      <td>1</td>\n",
       "      <td>10</td>\n",
       "      <td>2</td>\n",
       "      <td>2</td>\n",
       "      <td>3</td>\n",
       "      <td>0</td>\n",
       "      <td>6</td>\n",
       "      <td>0</td>\n",
       "      <td>1</td>\n",
       "      <td>0</td>\n",
       "      <td>7</td>\n",
       "    </tr>\n",
       "    <tr>\n",
       "      <th>8930</th>\n",
       "      <td>2</td>\n",
       "      <td>2</td>\n",
       "      <td>0</td>\n",
       "      <td>0</td>\n",
       "      <td>1</td>\n",
       "      <td>1</td>\n",
       "      <td>1</td>\n",
       "      <td>1</td>\n",
       "      <td>0</td>\n",
       "      <td>6</td>\n",
       "      <td>5</td>\n",
       "      <td>3</td>\n",
       "      <td>1</td>\n",
       "      <td>7</td>\n",
       "    </tr>\n",
       "    <tr>\n",
       "      <th>2671</th>\n",
       "      <td>5</td>\n",
       "      <td>3</td>\n",
       "      <td>4</td>\n",
       "      <td>5</td>\n",
       "      <td>8</td>\n",
       "      <td>1</td>\n",
       "      <td>2</td>\n",
       "      <td>5</td>\n",
       "      <td>0</td>\n",
       "      <td>7</td>\n",
       "      <td>5</td>\n",
       "      <td>6</td>\n",
       "      <td>1</td>\n",
       "      <td>1</td>\n",
       "    </tr>\n",
       "    <tr>\n",
       "      <th>13136</th>\n",
       "      <td>4</td>\n",
       "      <td>3</td>\n",
       "      <td>1</td>\n",
       "      <td>4</td>\n",
       "      <td>10</td>\n",
       "      <td>2</td>\n",
       "      <td>1</td>\n",
       "      <td>9</td>\n",
       "      <td>1</td>\n",
       "      <td>5</td>\n",
       "      <td>3</td>\n",
       "      <td>10</td>\n",
       "      <td>1</td>\n",
       "      <td>10</td>\n",
       "    </tr>\n",
       "    <tr>\n",
       "      <th>...</th>\n",
       "      <td>...</td>\n",
       "      <td>...</td>\n",
       "      <td>...</td>\n",
       "      <td>...</td>\n",
       "      <td>...</td>\n",
       "      <td>...</td>\n",
       "      <td>...</td>\n",
       "      <td>...</td>\n",
       "      <td>...</td>\n",
       "      <td>...</td>\n",
       "      <td>...</td>\n",
       "      <td>...</td>\n",
       "      <td>...</td>\n",
       "      <td>...</td>\n",
       "    </tr>\n",
       "    <tr>\n",
       "      <th>11482</th>\n",
       "      <td>4</td>\n",
       "      <td>1</td>\n",
       "      <td>10</td>\n",
       "      <td>10</td>\n",
       "      <td>10</td>\n",
       "      <td>5</td>\n",
       "      <td>2</td>\n",
       "      <td>6</td>\n",
       "      <td>3</td>\n",
       "      <td>8</td>\n",
       "      <td>1</td>\n",
       "      <td>10</td>\n",
       "      <td>3</td>\n",
       "      <td>10</td>\n",
       "    </tr>\n",
       "    <tr>\n",
       "      <th>8709</th>\n",
       "      <td>5</td>\n",
       "      <td>4</td>\n",
       "      <td>6</td>\n",
       "      <td>10</td>\n",
       "      <td>10</td>\n",
       "      <td>5</td>\n",
       "      <td>1</td>\n",
       "      <td>2</td>\n",
       "      <td>1</td>\n",
       "      <td>7</td>\n",
       "      <td>3</td>\n",
       "      <td>10</td>\n",
       "      <td>2</td>\n",
       "      <td>9</td>\n",
       "    </tr>\n",
       "    <tr>\n",
       "      <th>172</th>\n",
       "      <td>3</td>\n",
       "      <td>3</td>\n",
       "      <td>8</td>\n",
       "      <td>4</td>\n",
       "      <td>1</td>\n",
       "      <td>4</td>\n",
       "      <td>2</td>\n",
       "      <td>2</td>\n",
       "      <td>2</td>\n",
       "      <td>9</td>\n",
       "      <td>4</td>\n",
       "      <td>7</td>\n",
       "      <td>1</td>\n",
       "      <td>6</td>\n",
       "    </tr>\n",
       "    <tr>\n",
       "      <th>14241</th>\n",
       "      <td>5</td>\n",
       "      <td>2</td>\n",
       "      <td>8</td>\n",
       "      <td>0</td>\n",
       "      <td>1</td>\n",
       "      <td>5</td>\n",
       "      <td>1</td>\n",
       "      <td>5</td>\n",
       "      <td>2</td>\n",
       "      <td>10</td>\n",
       "      <td>2</td>\n",
       "      <td>5</td>\n",
       "      <td>3</td>\n",
       "      <td>10</td>\n",
       "    </tr>\n",
       "    <tr>\n",
       "      <th>10092</th>\n",
       "      <td>2</td>\n",
       "      <td>4</td>\n",
       "      <td>6</td>\n",
       "      <td>4</td>\n",
       "      <td>10</td>\n",
       "      <td>2</td>\n",
       "      <td>2</td>\n",
       "      <td>4</td>\n",
       "      <td>0</td>\n",
       "      <td>6</td>\n",
       "      <td>8</td>\n",
       "      <td>5</td>\n",
       "      <td>1</td>\n",
       "      <td>7</td>\n",
       "    </tr>\n",
       "  </tbody>\n",
       "</table>\n",
       "<p>8943 rows × 14 columns</p>\n",
       "</div>"
      ],
      "text/plain": [
       "       fruit_veg  stress  core_circle  support  social  donation  bmi  steps  \\\n",
       "10725          2       1            6        4       4         1    1      4   \n",
       "6319           3       3            2        1      10         2    2      3   \n",
       "8930           2       2            0        0       1         1    1      1   \n",
       "2671           5       3            4        5       8         1    2      5   \n",
       "13136          4       3            1        4      10         2    1      9   \n",
       "...          ...     ...          ...      ...     ...       ...  ...    ...   \n",
       "11482          4       1           10       10      10         5    2      6   \n",
       "8709           5       4            6       10      10         5    1      2   \n",
       "172            3       3            8        4       1         4    2      2   \n",
       "14241          5       2            8        0       1         5    1      5   \n",
       "10092          2       4            6        4      10         2    2      4   \n",
       "\n",
       "       vision  sleep_hrs  shouts  awards  passion  meditation  \n",
       "10725       2          7       1       3        3           1  \n",
       "6319        0          6       0       1        0           7  \n",
       "8930        0          6       5       3        1           7  \n",
       "2671        0          7       5       6        1           1  \n",
       "13136       1          5       3      10        1          10  \n",
       "...       ...        ...     ...     ...      ...         ...  \n",
       "11482       3          8       1      10        3          10  \n",
       "8709        1          7       3      10        2           9  \n",
       "172         2          9       4       7        1           6  \n",
       "14241       2         10       2       5        3          10  \n",
       "10092       0          6       8       5        1           7  \n",
       "\n",
       "[8943 rows x 14 columns]"
      ]
     },
     "execution_count": 78,
     "metadata": {},
     "output_type": "execute_result"
    }
   ],
   "source": [
    "X_train"
   ]
  },
  {
   "cell_type": "code",
   "execution_count": 79,
   "metadata": {},
   "outputs": [
    {
     "data": {
      "text/plain": [
       "Index(['fruit_veg', 'stress', 'core_circle', 'support', 'social', 'donation',\n",
       "       'bmi', 'steps', 'vision', 'sleep_hrs', 'shouts', 'awards', 'passion',\n",
       "       'meditation'],\n",
       "      dtype='object')"
      ]
     },
     "execution_count": 79,
     "metadata": {},
     "output_type": "execute_result"
    }
   ],
   "source": [
    "X_train.columns"
   ]
  },
  {
   "cell_type": "code",
   "execution_count": 80,
   "metadata": {},
   "outputs": [
    {
     "name": "stdout",
     "output_type": "stream",
     "text": [
      "<class 'pandas.core.frame.DataFrame'>\n",
      "Int64Index: 8943 entries, 10725 to 10092\n",
      "Data columns (total 14 columns):\n",
      " #   Column       Non-Null Count  Dtype\n",
      "---  ------       --------------  -----\n",
      " 0   fruit_veg    8943 non-null   int64\n",
      " 1   stress       8943 non-null   int64\n",
      " 2   core_circle  8943 non-null   int64\n",
      " 3   support      8943 non-null   int64\n",
      " 4   social       8943 non-null   int64\n",
      " 5   donation     8943 non-null   int64\n",
      " 6   bmi          8943 non-null   int64\n",
      " 7   steps        8943 non-null   int64\n",
      " 8   vision       8943 non-null   int64\n",
      " 9   sleep_hrs    8943 non-null   int64\n",
      " 10  shouts       8943 non-null   int64\n",
      " 11  awards       8943 non-null   int64\n",
      " 12  passion      8943 non-null   int64\n",
      " 13  meditation   8943 non-null   int64\n",
      "dtypes: int64(14)\n",
      "memory usage: 1.3 MB\n"
     ]
    }
   ],
   "source": [
    "X_train.info()"
   ]
  },
  {
   "cell_type": "code",
   "execution_count": 81,
   "metadata": {},
   "outputs": [
    {
     "name": "stdout",
     "output_type": "stream",
     "text": [
      "<class 'pandas.core.frame.DataFrame'>\n",
      "Int64Index: 8943 entries, 10725 to 10092\n",
      "Data columns (total 1 columns):\n",
      " #   Column     Non-Null Count  Dtype   \n",
      "---  ------     --------------  -----   \n",
      " 0   ach_level  8943 non-null   category\n",
      "dtypes: category(1)\n",
      "memory usage: 398.7 KB\n"
     ]
    }
   ],
   "source": [
    "y_train.info()"
   ]
  },
  {
   "cell_type": "markdown",
   "metadata": {},
   "source": [
    "## Modeling"
   ]
  },
  {
   "cell_type": "markdown",
   "metadata": {},
   "source": [
    "### Establishing a Baseline Accuracy"
   ]
  },
  {
   "cell_type": "code",
   "execution_count": 82,
   "metadata": {},
   "outputs": [
    {
     "data": {
      "text/plain": [
       "ach_level\n",
       "avg_ach     10971\n",
       "low_ach      2897\n",
       "high_ach     2103\n",
       "dtype: int64"
      ]
     },
     "execution_count": 82,
     "metadata": {},
     "output_type": "execute_result"
    }
   ],
   "source": [
    "df4.value_counts('ach_level')"
   ]
  },
  {
   "cell_type": "code",
   "execution_count": 83,
   "metadata": {},
   "outputs": [],
   "source": [
    "baseline = 'avg_ach'\n"
   ]
  },
  {
   "cell_type": "code",
   "execution_count": 84,
   "metadata": {},
   "outputs": [
    {
     "name": "stdout",
     "output_type": "stream",
     "text": [
      "Baseline accuracy is 0.6851168511685117\n"
     ]
    }
   ],
   "source": [
    "baseline_accuracy = (y_train.ach_level == baseline).mean()\n",
    "baseline_accuracy\n",
    "print(f'Baseline accuracy is {baseline_accuracy}')"
   ]
  },
  {
   "cell_type": "markdown",
   "metadata": {},
   "source": [
    "_______________________________________________________________________________________________________________________"
   ]
  },
  {
   "cell_type": "markdown",
   "metadata": {},
   "source": [
    "### Decision Tree Classifier"
   ]
  },
  {
   "cell_type": "code",
   "execution_count": 140,
   "metadata": {},
   "outputs": [],
   "source": [
    "# Generate a blank, decision tree model\n",
    "clf = DecisionTreeClassifier(random_state=123, max_depth = 3)\n",
    "\n",
    "#Specify the features\n",
    "n=['stress', 'vision', 'sleep_hrs',  'passion', 'meditation']\n",
    "\n",
    "# model.fit(X, y)\n",
    "clf = clf.fit(X_train[n], y_train)\n"
   ]
  },
  {
   "cell_type": "code",
   "execution_count": 141,
   "metadata": {},
   "outputs": [
    {
     "data": {
      "text/plain": [
       "'wellbeing_decision_tree.pdf'"
      ]
     },
     "execution_count": 141,
     "metadata": {},
     "output_type": "execute_result"
    }
   ],
   "source": [
    "import graphviz\n",
    "from graphviz import Graph\n",
    "\n",
    "n=['stress', 'vision', 'sleep_hrs',  'passion', 'meditation']\n",
    "\n",
    "dot_data = export_graphviz(clf, feature_names=n , rounded=True, filled=True, out_file=None)\n",
    "graph = graphviz.Source(dot_data) \n",
    "\n",
    "graph.render('wellbeing_decision_tree', view=True)"
   ]
  },
  {
   "cell_type": "code",
   "execution_count": 142,
   "metadata": {},
   "outputs": [],
   "source": [
    "# Make predictions and estimate probability on train\n",
    "y_pred = clf.predict(X_train[n])"
   ]
  },
  {
   "cell_type": "code",
   "execution_count": 143,
   "metadata": {},
   "outputs": [],
   "source": [
    "y_pred_proba = clf.predict_proba(X_train[n])"
   ]
  },
  {
   "cell_type": "code",
   "execution_count": 144,
   "metadata": {},
   "outputs": [
    {
     "name": "stdout",
     "output_type": "stream",
     "text": [
      "Accuracy of Decision Tree classifier on in-sample training set: 0.6945\n"
     ]
    }
   ],
   "source": [
    "print('Accuracy of Decision Tree classifier on in-sample training set: {:.4f}'\n",
    "      .format(clf.score(X_train[n], y_train.ach_level)))\n"
   ]
  },
  {
   "cell_type": "code",
   "execution_count": 145,
   "metadata": {},
   "outputs": [
    {
     "name": "stdout",
     "output_type": "stream",
     "text": [
      "Classification Report on Training Set\n",
      "\n",
      "              precision    recall  f1-score   support\n",
      "\n",
      "     avg_ach       0.70      0.96      0.81      6127\n",
      "    high_ach       0.00      0.00      0.00      1177\n",
      "     low_ach       0.56      0.22      0.31      1639\n",
      "\n",
      "    accuracy                           0.69      8943\n",
      "   macro avg       0.42      0.39      0.37      8943\n",
      "weighted avg       0.59      0.69      0.61      8943\n",
      "\n"
     ]
    }
   ],
   "source": [
    "print('Classification Report on Training Set')\n",
    "print()\n",
    "print(classification_report(y_train, y_pred))"
   ]
  },
  {
   "cell_type": "code",
   "execution_count": 146,
   "metadata": {},
   "outputs": [],
   "source": [
    "# Make predictions and estimate probability on validate\n",
    "y_pred_val = clf.predict(X_validate[n])\n",
    "y_pred_val_proba = clf.predict_proba(X_validate[n])"
   ]
  },
  {
   "cell_type": "code",
   "execution_count": 147,
   "metadata": {},
   "outputs": [
    {
     "name": "stdout",
     "output_type": "stream",
     "text": [
      "Accuracy of Decision Tree classifier on out-of-sample validation set: 0.70\n"
     ]
    }
   ],
   "source": [
    "print('Accuracy of Decision Tree classifier on out-of-sample validation set: {:.2f}'\n",
    "      .format(clf.score(X_validate[n], y_validate.ach_level)))"
   ]
  },
  {
   "cell_type": "code",
   "execution_count": 148,
   "metadata": {},
   "outputs": [
    {
     "name": "stdout",
     "output_type": "stream",
     "text": [
      "Classification Report on Validate Set\n",
      "\n",
      "              precision    recall  f1-score   support\n",
      "\n",
      "     avg_ach       0.71      0.96      0.81      2640\n",
      "    high_ach       0.00      0.00      0.00       505\n",
      "     low_ach       0.54      0.19      0.28       688\n",
      "\n",
      "    accuracy                           0.70      3833\n",
      "   macro avg       0.41      0.38      0.37      3833\n",
      "weighted avg       0.58      0.70      0.61      3833\n",
      "\n"
     ]
    }
   ],
   "source": [
    "print('Classification Report on Validate Set')\n",
    "print()\n",
    "print(classification_report(y_validate, y_pred_val))"
   ]
  },
  {
   "cell_type": "markdown",
   "metadata": {},
   "source": [
    "#### Takeaways on Decision Tree Model \n",
    "\n",
    "- features modeled = stress, vision, hours of sleep, passion, meditation\n",
    "- target = achievement level\n",
    "- Accuracy of Decision classifier on training set: 69%\n",
    "- Accuracy of Decision classifier on validation set: 70%\n",
    "- Baseline Accuracy = 69%\n",
    "\n",
    "\n"
   ]
  },
  {
   "cell_type": "markdown",
   "metadata": {},
   "source": [
    "_______________________________________________________________________________________________________________________"
   ]
  },
  {
   "cell_type": "markdown",
   "metadata": {},
   "source": [
    "## Logistic Regression Model #1"
   ]
  },
  {
   "cell_type": "code",
   "execution_count": 149,
   "metadata": {},
   "outputs": [
    {
     "name": "stdout",
     "output_type": "stream",
     "text": [
      "Baseline accuracy is 0.6851168511685117\n",
      "\n",
      "Accuracy of Logistic Regression classifier on training set: 0.6896\n"
     ]
    }
   ],
   "source": [
    "# Create the logistic regression object\n",
    "logit = LogisticRegression(random_state=123)\n",
    "\n",
    "# specify the target and features \n",
    "features = ['stress', 'vision', 'sleep_hrs', 'passion', 'meditation']\n",
    "target = ['ach_level']\n",
    "\n",
    "# Fit a model using only these specified features\n",
    "logit.fit(X_train[features], y_train)\n",
    "\n",
    "# predict on that same subset of features that we fit on\n",
    "y_pred_lr = logit.predict(X_train[features])\n",
    "\n",
    "print(f'Baseline accuracy is {baseline_accuracy}')\n",
    "print()\n",
    "print('Accuracy of Logistic Regression classifier on training set: {:.4f}'\n",
    "     .format(logit.score(X_train[features], y_train)))"
   ]
  },
  {
   "cell_type": "code",
   "execution_count": 136,
   "metadata": {},
   "outputs": [
    {
     "name": "stdout",
     "output_type": "stream",
     "text": [
      "              precision    recall  f1-score   support\n",
      "\n",
      "     avg_ach       0.69      1.00      0.81      6127\n",
      "    high_ach       0.70      0.05      0.09      1177\n",
      "     low_ach       0.71      0.01      0.01      1639\n",
      "\n",
      "    accuracy                           0.69      8943\n",
      "   macro avg       0.70      0.35      0.31      8943\n",
      "weighted avg       0.69      0.69      0.57      8943\n",
      "\n"
     ]
    }
   ],
   "source": [
    "#classification report\n",
    "print(classification_report(y_train, y_pred_lr))"
   ]
  },
  {
   "cell_type": "code",
   "execution_count": 151,
   "metadata": {},
   "outputs": [
    {
     "name": "stdout",
     "output_type": "stream",
     "text": [
      "Baseline accuracy is 0.6851168511685117\n",
      "\n",
      "Accuracy of Logistic Regression classifier on validation set: 0.6888\n"
     ]
    }
   ],
   "source": [
    "# predict on that same subset of features that we fit on\n",
    "y_pred_val_lr = logit.predict(X_validate[features])\n",
    "\n",
    "print(f'Baseline accuracy is {baseline_accuracy}')\n",
    "print()\n",
    "print('Accuracy of Logistic Regression classifier on validation set: {:.4f}'\n",
    "     .format(logit.score(X_validate[features], y_validate)))"
   ]
  },
  {
   "cell_type": "code",
   "execution_count": 152,
   "metadata": {},
   "outputs": [
    {
     "name": "stdout",
     "output_type": "stream",
     "text": [
      "              precision    recall  f1-score   support\n",
      "\n",
      "     avg_ach       0.69      0.99      0.81      2640\n",
      "    high_ach       0.43      0.03      0.06       505\n",
      "     low_ach       0.71      0.01      0.01       688\n",
      "\n",
      "    accuracy                           0.69      3833\n",
      "   macro avg       0.61      0.34      0.30      3833\n",
      "weighted avg       0.66      0.69      0.57      3833\n",
      "\n"
     ]
    }
   ],
   "source": [
    "#classification report\n",
    "print(classification_report(y_validate, y_pred_val_lr))"
   ]
  },
  {
   "cell_type": "markdown",
   "metadata": {},
   "source": [
    "#### Takeaways on LR Model 1\n",
    "\n",
    "- features modeled = stress, vision, hours of sleep, passion, meditation\n",
    "- target = achievement level\n",
    "- Accuracy of Logistic Regression classifier on training set: 0.6896%\n",
    "- Accuracy of Logistic Regression classifier on validation set: 0.6888%\n",
    "- Baseline Accuracy = 0.685\n"
   ]
  },
  {
   "cell_type": "markdown",
   "metadata": {},
   "source": [
    "_______________________________________________________________________________________________________________________"
   ]
  },
  {
   "cell_type": "markdown",
   "metadata": {},
   "source": [
    "## Logistic Regression Model #2"
   ]
  },
  {
   "cell_type": "code",
   "execution_count": 153,
   "metadata": {},
   "outputs": [
    {
     "name": "stdout",
     "output_type": "stream",
     "text": [
      "Baseline accuracy is 0.6851168511685117\n",
      "\n",
      "Accuracy of Logistic Regression Model #2 classifier on training set: 0.6889\n"
     ]
    }
   ],
   "source": [
    "# Create the logistic regression object\n",
    "logit2 = LogisticRegression(random_state=123)\n",
    "\n",
    "# specify the target and features \n",
    "features = ['vision','passion', 'stress', 'meditation']\n",
    "target = ['ach_level']\n",
    "\n",
    "# Fit a model using only these specified features\n",
    "logit2.fit(X_train[features], y_train)\n",
    "\n",
    "# predict on that same subset of features that we fit on\n",
    "y_pred_lr2 = logit2.predict(X_train[features])\n",
    "\n",
    "print(f'Baseline accuracy is {baseline_accuracy}')\n",
    "print()\n",
    "print('Accuracy of Logistic Regression Model #2 classifier on training set: {:.4f}'\n",
    "     .format(logit2.score(X_train[features], y_train)))"
   ]
  },
  {
   "cell_type": "code",
   "execution_count": 154,
   "metadata": {},
   "outputs": [
    {
     "name": "stdout",
     "output_type": "stream",
     "text": [
      "              precision    recall  f1-score   support\n",
      "\n",
      "     avg_ach       0.69      1.00      0.81      6127\n",
      "    high_ach       0.70      0.05      0.09      1177\n",
      "     low_ach       0.00      0.00      0.00      1639\n",
      "\n",
      "    accuracy                           0.69      8943\n",
      "   macro avg       0.46      0.35      0.30      8943\n",
      "weighted avg       0.56      0.69      0.57      8943\n",
      "\n"
     ]
    }
   ],
   "source": [
    "#classification report\n",
    "print(classification_report(y_train, y_pred_lr2))"
   ]
  },
  {
   "cell_type": "code",
   "execution_count": 155,
   "metadata": {},
   "outputs": [
    {
     "name": "stdout",
     "output_type": "stream",
     "text": [
      "Baseline accuracy is 0.6851168511685117\n",
      "\n",
      "Accuracy of Logistic Regression Model #2 classifier on validation set: 0.6880\n"
     ]
    }
   ],
   "source": [
    "# predict on that same subset of features that we fit on\n",
    "y_pred_val_lr2 = logit2.predict(X_validate[features])\n",
    "\n",
    "print(f'Baseline accuracy is {baseline_accuracy}')\n",
    "print()\n",
    "print('Accuracy of Logistic Regression Model #2 classifier on validation set: {:.4f}'\n",
    "     .format(logit2.score(X_validate[features], y_validate)))"
   ]
  },
  {
   "cell_type": "code",
   "execution_count": 156,
   "metadata": {},
   "outputs": [
    {
     "name": "stdout",
     "output_type": "stream",
     "text": [
      "              precision    recall  f1-score   support\n",
      "\n",
      "     avg_ach       0.69      0.99      0.81      2640\n",
      "    high_ach       0.43      0.03      0.06       505\n",
      "     low_ach       0.00      0.00      0.00       688\n",
      "\n",
      "    accuracy                           0.69      3833\n",
      "   macro avg       0.37      0.34      0.29      3833\n",
      "weighted avg       0.53      0.69      0.57      3833\n",
      "\n"
     ]
    }
   ],
   "source": [
    "#classification report\n",
    "print(classification_report(y_validate, y_pred_val_lr2))"
   ]
  },
  {
   "cell_type": "markdown",
   "metadata": {},
   "source": [
    "#### Takeaways on LR Model 2\n",
    "\n",
    "- features modeled =  ['vision','passion', 'stress', 'meditation']\n",
    "- target = achievement level\n",
    "- Accuracy of Logistic Regression - Model 2 classifier on training set: 0.6889%\n",
    "- Accuracy of Logistic Regression - Model 2 classifier on validation set: 0.6880%\n",
    "- Baseline Accuracy = 0.685%\n"
   ]
  },
  {
   "cell_type": "markdown",
   "metadata": {},
   "source": [
    "_______________________________________________________________________________________________________________________"
   ]
  },
  {
   "cell_type": "markdown",
   "metadata": {},
   "source": [
    "## Logistic Regression Model #3"
   ]
  },
  {
   "cell_type": "code",
   "execution_count": 157,
   "metadata": {},
   "outputs": [
    {
     "name": "stdout",
     "output_type": "stream",
     "text": [
      "Baseline accuracy is 0.6851168511685117\n",
      "\n",
      "Accuracy of Logistic Regression Model #3 classifier on training set: 0.6851\n"
     ]
    }
   ],
   "source": [
    "# Create the logistic regression object\n",
    "logit3 = LogisticRegression(random_state=123)\n",
    "\n",
    "# specify the target and features \n",
    "features = ['stress','shouts', 'sleep_hrs', 'bmi']\n",
    "target = ['ach_level']\n",
    "\n",
    "# Fit a model using only these specified features\n",
    "logit3.fit(X_train[features], y_train)\n",
    "\n",
    "# predict on that same subset of features that we fit on\n",
    "y_pred_lr3 = logit3.predict(X_train[features])\n",
    "\n",
    "print(f'Baseline accuracy is {baseline_accuracy}')\n",
    "print()\n",
    "print('Accuracy of Logistic Regression Model #3 classifier on training set: {:.4f}'\n",
    "     .format(logit3.score(X_train[features], y_train)))"
   ]
  },
  {
   "cell_type": "code",
   "execution_count": 132,
   "metadata": {},
   "outputs": [
    {
     "name": "stdout",
     "output_type": "stream",
     "text": [
      "              precision    recall  f1-score   support\n",
      "\n",
      "     avg_ach       0.69      1.00      0.81      6127\n",
      "    high_ach       0.70      0.05      0.09      1177\n",
      "     low_ach       0.00      0.00      0.00      1639\n",
      "\n",
      "    accuracy                           0.69      8943\n",
      "   macro avg       0.46      0.35      0.30      8943\n",
      "weighted avg       0.56      0.69      0.57      8943\n",
      "\n"
     ]
    }
   ],
   "source": [
    "#classification report\n",
    "print(classification_report(y_train, y_pred_lr2))"
   ]
  },
  {
   "cell_type": "code",
   "execution_count": 158,
   "metadata": {},
   "outputs": [
    {
     "name": "stdout",
     "output_type": "stream",
     "text": [
      "Baseline accuracy is 0.6851168511685117\n",
      "\n",
      "Accuracy of Logistic Regression Model #3 classifier on out-of-sample validation set: 0.6888\n"
     ]
    }
   ],
   "source": [
    "# predict on that same subset of features that we fit on\n",
    "y_pred_val_lr3 = logit3.predict(X_validate[features])\n",
    "\n",
    "print(f'Baseline accuracy is {baseline_accuracy}')\n",
    "print()\n",
    "print('Accuracy of Logistic Regression Model #3 classifier on out-of-sample validation set: {:.4f}'\n",
    "     .format(logit3.score(X_validate[features], y_validate)))"
   ]
  },
  {
   "cell_type": "code",
   "execution_count": 159,
   "metadata": {},
   "outputs": [
    {
     "name": "stdout",
     "output_type": "stream",
     "text": [
      "              precision    recall  f1-score   support\n",
      "\n",
      "     avg_ach       0.69      0.99      0.81      2640\n",
      "    high_ach       0.43      0.03      0.06       505\n",
      "     low_ach       0.00      0.00      0.00       688\n",
      "\n",
      "    accuracy                           0.69      3833\n",
      "   macro avg       0.37      0.34      0.29      3833\n",
      "weighted avg       0.53      0.69      0.57      3833\n",
      "\n"
     ]
    }
   ],
   "source": [
    "#classification report\n",
    "print(classification_report(y_validate, y_pred_val_lr2))"
   ]
  },
  {
   "cell_type": "markdown",
   "metadata": {},
   "source": [
    "#### Takeaways on LR Model 3\n",
    "\n",
    "- features modeled =  ['stress','shouts', 'sleep_hrs', 'bmi']\n",
    "- target = achievement level\n",
    "- Accuracy of Logistic Regression - Model 3 classifier on training set: 0.685%\n",
    "- Accuracy of Logistic Regression - Model 3 classifier on validation set: 0.688%\n",
    "- Baseline Accuracy = 0.685%\n",
    "\n"
   ]
  },
  {
   "cell_type": "markdown",
   "metadata": {},
   "source": [
    "_______________________________________________________________________________________________________________________"
   ]
  },
  {
   "cell_type": "markdown",
   "metadata": {},
   "source": [
    "## K-Nearest Neighbor"
   ]
  },
  {
   "cell_type": "code",
   "execution_count": 160,
   "metadata": {},
   "outputs": [
    {
     "name": "stdout",
     "output_type": "stream",
     "text": [
      "Model accuracy is 0.719\n"
     ]
    }
   ],
   "source": [
    "#make the model\n",
    "knn = KNeighborsClassifier()\n",
    "\n",
    "#Specify the features\n",
    "features = ['vision','passion', 'stress', 'meditation']\n",
    "\n",
    "#fit the model\n",
    "knn_fit = knn.fit(X_train[features], y_train)\n",
    "\n",
    "# evaluating the model\n",
    "y_pred = knn.predict(X_train[features])\n",
    "\n",
    "# check model accuracy\n",
    "accuracy = knn.score(X_train[features], y_train)\n",
    "print(f'Model accuracy is {accuracy:.3}')"
   ]
  },
  {
   "cell_type": "code",
   "execution_count": 161,
   "metadata": {},
   "outputs": [
    {
     "name": "stdout",
     "output_type": "stream",
     "text": [
      "              precision    recall  f1-score   support\n",
      "\n",
      "     avg_ach       0.74      0.92      0.82      6127\n",
      "    high_ach       0.64      0.25      0.36      1177\n",
      "     low_ach       0.58      0.31      0.40      1639\n",
      "\n",
      "    accuracy                           0.72      8943\n",
      "   macro avg       0.65      0.49      0.53      8943\n",
      "weighted avg       0.70      0.72      0.68      8943\n",
      "\n"
     ]
    }
   ],
   "source": [
    "# Classification metrics report\n",
    "print(classification_report(y_train, y_pred))"
   ]
  },
  {
   "cell_type": "code",
   "execution_count": 162,
   "metadata": {},
   "outputs": [
    {
     "name": "stdout",
     "output_type": "stream",
     "text": [
      "Model accuracy is 0.662\n"
     ]
    }
   ],
   "source": [
    "# evaluating the model on validate\n",
    "y_pred_val = knn.predict(X_validate[features])\n",
    "\n",
    "# check model accuracy on validate\n",
    "accuracy = knn.score(X_validate[features], y_validate)\n",
    "print(f'Model accuracy is {accuracy:.3}')"
   ]
  },
  {
   "cell_type": "code",
   "execution_count": 163,
   "metadata": {},
   "outputs": [
    {
     "name": "stdout",
     "output_type": "stream",
     "text": [
      "              precision    recall  f1-score   support\n",
      "\n",
      "     avg_ach       0.71      0.87      0.78      2640\n",
      "    high_ach       0.32      0.12      0.18       505\n",
      "     low_ach       0.42      0.24      0.31       688\n",
      "\n",
      "    accuracy                           0.66      3833\n",
      "   macro avg       0.48      0.41      0.42      3833\n",
      "weighted avg       0.61      0.66      0.62      3833\n",
      "\n"
     ]
    }
   ],
   "source": [
    "# Classification metrics report\n",
    "print(classification_report(y_validate, y_pred_val))"
   ]
  },
  {
   "cell_type": "markdown",
   "metadata": {},
   "source": [
    "#### Takeaways on KNN Model 1\n",
    "\n",
    "- features modeled =  ['vision','passion', 'stress', 'meditation']\n",
    "- target = achievement level\n",
    "- Accuracy of K-Nearest Neighbor classifier on in-sample training set: 0.719%\n",
    "- Accuracy of K-Nearest Neighbor classifier on out-of-sample validation set: 0.662%\n",
    "- Baseline Accuracy = 0.685%\n"
   ]
  },
  {
   "cell_type": "markdown",
   "metadata": {},
   "source": [
    "_______________________________________________________________________________________________________________________"
   ]
  },
  {
   "cell_type": "markdown",
   "metadata": {},
   "source": [
    "## K-Nearest Neighbor - Model 2"
   ]
  },
  {
   "cell_type": "code",
   "execution_count": 169,
   "metadata": {},
   "outputs": [
    {
     "name": "stdout",
     "output_type": "stream",
     "text": [
      "Model accuracy is 0.742\n"
     ]
    }
   ],
   "source": [
    "#make the model\n",
    "knn2 = KNeighborsClassifier()\n",
    "\n",
    "#Specify the features\n",
    "features = ['stress', 'vision', 'sleep_hrs', 'passion', 'meditation']\n",
    "\n",
    "#fit the model\n",
    "knn2_fit = knn2.fit(X_train[features], y_train)\n",
    "\n",
    "# evaluating the model\n",
    "y_pred = knn2.predict(X_train[features])\n",
    "\n",
    "# check model accuracy\n",
    "accuracy = knn2.score(X_train[features], y_train)\n",
    "print(f'Model accuracy is {accuracy:.3}')"
   ]
  },
  {
   "cell_type": "code",
   "execution_count": 170,
   "metadata": {},
   "outputs": [
    {
     "name": "stdout",
     "output_type": "stream",
     "text": [
      "              precision    recall  f1-score   support\n",
      "\n",
      "     avg_ach       0.75      0.93      0.83      6127\n",
      "    high_ach       0.66      0.28      0.39      1177\n",
      "     low_ach       0.69      0.35      0.47      1639\n",
      "\n",
      "    accuracy                           0.74      8943\n",
      "   macro avg       0.70      0.52      0.57      8943\n",
      "weighted avg       0.73      0.74      0.71      8943\n",
      "\n"
     ]
    }
   ],
   "source": [
    "# Classification metrics report\n",
    "print(classification_report(y_train, y_pred))"
   ]
  },
  {
   "cell_type": "code",
   "execution_count": 171,
   "metadata": {},
   "outputs": [
    {
     "name": "stdout",
     "output_type": "stream",
     "text": [
      "Model accuracy is 0.658\n"
     ]
    }
   ],
   "source": [
    "# evaluating the model\n",
    "y_pred_val = knn2.predict(X_validate[features])\n",
    "\n",
    "# check model accuracy\n",
    "accuracy = knn2.score(X_validate[features], y_validate)\n",
    "print(f'Model accuracy is {accuracy:.3}')"
   ]
  },
  {
   "cell_type": "code",
   "execution_count": 172,
   "metadata": {},
   "outputs": [
    {
     "name": "stdout",
     "output_type": "stream",
     "text": [
      "              precision    recall  f1-score   support\n",
      "\n",
      "     avg_ach       0.71      0.87      0.78      2640\n",
      "    high_ach       0.33      0.14      0.20       505\n",
      "     low_ach       0.41      0.23      0.29       688\n",
      "\n",
      "    accuracy                           0.66      3833\n",
      "   macro avg       0.48      0.41      0.42      3833\n",
      "weighted avg       0.61      0.66      0.62      3833\n",
      "\n"
     ]
    }
   ],
   "source": [
    "# Classification metrics report\n",
    "print(classification_report(y_validate, y_pred_val))"
   ]
  },
  {
   "cell_type": "markdown",
   "metadata": {},
   "source": [
    "#### Takeaways on KNN Model 2\n",
    "\n",
    "- features modeled =  ['vision','passion', 'stress', 'meditation']\n",
    "- target = achievement level\n",
    "- Accuracy of K-Nearest Neighbor classifier on in-sample training set: 0.742%\n",
    "- Accuracy of K-Nearest Neighbor classifier on out-of-sample validation set: 0.658%\n",
    "- Baseline Accuracy = 0.685%"
   ]
  },
  {
   "cell_type": "markdown",
   "metadata": {},
   "source": [
    "_______________________________________________________________________________________________________________________"
   ]
  },
  {
   "cell_type": "markdown",
   "metadata": {},
   "source": [
    "## Random Forest - Model 1"
   ]
  },
  {
   "cell_type": "code",
   "execution_count": 179,
   "metadata": {},
   "outputs": [
    {
     "data": {
      "text/plain": [
       "RandomForestClassifier(max_depth=3, min_samples_leaf=3, random_state=123)"
      ]
     },
     "execution_count": 179,
     "metadata": {},
     "output_type": "execute_result"
    }
   ],
   "source": [
    "# make the model\n",
    "rf = RandomForestClassifier(bootstrap=True, \n",
    "                            class_weight=None, \n",
    "                            criterion='gini',\n",
    "                            min_samples_leaf=3,\n",
    "                            n_estimators=100,\n",
    "                            max_depth=3, \n",
    "                            random_state=123)\n",
    "\n",
    "# Specify Features\n",
    "features = ['vision','passion', 'stress', 'meditation']\n",
    "\n",
    "# Fit the model \n",
    "rf.fit(X_train[features], y_train)"
   ]
  },
  {
   "cell_type": "code",
   "execution_count": 180,
   "metadata": {},
   "outputs": [
    {
     "name": "stdout",
     "output_type": "stream",
     "text": [
      "[0.43046716 0.46459298 0.03438571 0.07055415]\n"
     ]
    }
   ],
   "source": [
    "# Feature Importance\n",
    "print(rf.feature_importances_)"
   ]
  },
  {
   "cell_type": "code",
   "execution_count": 183,
   "metadata": {},
   "outputs": [],
   "source": [
    "# Make Predictions\n",
    "y_pred = rf.predict(X_train[features])\n",
    "\n",
    "# Estimate probability\n",
    "y_pred_proba = rf.predict_proba(X_train[features])"
   ]
  },
  {
   "cell_type": "code",
   "execution_count": 185,
   "metadata": {},
   "outputs": [
    {
     "name": "stdout",
     "output_type": "stream",
     "text": [
      "Accuracy of random forest classifier on train set: 0.6948\n"
     ]
    }
   ],
   "source": [
    "print('Accuracy of random forest classifier on train set: {:.4f}'\n",
    "     .format(rf.score(X_train[features], y_train)))\n"
   ]
  },
  {
   "cell_type": "code",
   "execution_count": 183,
   "metadata": {},
   "outputs": [],
   "source": [
    "# Make Predictions\n",
    "y_pred_val = rf.predict(X_validate[features])\n",
    "\n",
    "# Estimate probability\n",
    "y_pred_proba = rf.predict_proba(X_validate[features])"
   ]
  },
  {
   "cell_type": "code",
   "execution_count": 184,
   "metadata": {},
   "outputs": [
    {
     "name": "stdout",
     "output_type": "stream",
     "text": [
      "Accuracy of random forest classifier on validation set: 0.6968\n"
     ]
    }
   ],
   "source": [
    "print('Accuracy of random forest classifier on validation set: {:.4f}'\n",
    "     .format(rf.score(X_validate[features], y_validate)))\n"
   ]
  },
  {
   "cell_type": "markdown",
   "metadata": {},
   "source": [
    "#### Takeaways on Random Forest - Model 1\n",
    "\n",
    "- features modeled =  ['vision','passion', 'stress', 'meditation']\n",
    "\n",
    "** Feature Importance: (greatest to least):  Passion, vision, meditation, stress\n",
    "- target = achievement level\n",
    "- Accuracy of Random Forest on in-sample training set: 0.6948%\n",
    "- Accuracy of Random Forest on out-of-sample validation set: 0.6968%\n",
    "- Baseline Accuracy = 0.685%"
   ]
  },
  {
   "cell_type": "code",
   "execution_count": null,
   "metadata": {},
   "outputs": [],
   "source": []
  }
 ],
 "metadata": {
  "kernelspec": {
   "display_name": "Python 3",
   "language": "python",
   "name": "python3"
  },
  "language_info": {
   "codemirror_mode": {
    "name": "ipython",
    "version": 3
   },
   "file_extension": ".py",
   "mimetype": "text/x-python",
   "name": "python",
   "nbconvert_exporter": "python",
   "pygments_lexer": "ipython3",
   "version": "3.8.5"
  }
 },
 "nbformat": 4,
 "nbformat_minor": 4
}
